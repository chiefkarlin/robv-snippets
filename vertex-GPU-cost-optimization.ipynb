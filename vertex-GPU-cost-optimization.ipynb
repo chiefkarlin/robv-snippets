{
 "cells": [
  {
   "cell_type": "code",
   "execution_count": null,
   "metadata": {
    "id": "7fPc-KWUi2Xd"
   },
   "outputs": [],
   "source": [
    "# Copyright 2021 Google LLC\n",
    "#\n",
    "# Licensed under the Apache License, Version 2.0 (the \"License\");\n",
    "# you may not use this file except in compliance with the License.\n",
    "# You may obtain a copy of the License at\n",
    "#\n",
    "#     https://www.apache.org/licenses/LICENSE-2.0\n",
    "#\n",
    "# Unless required by applicable law or agreed to in writing, software\n",
    "# distributed under the License is distributed on an \"AS IS\" BASIS,\n",
    "# WITHOUT WARRANTIES OR CONDITIONS OF ANY KIND, either express or implied.\n",
    "# See the License for the specific language governing permissions and\n",
    "# limitations under the License."
   ]
  },
  {
   "cell_type": "markdown",
   "metadata": {
    "id": "eoXf8TfQoVth"
   },
   "source": [
    "<table align=\"left\">\n",
    "\n",
    "  <td>\n",
    "    <a href=\"https://colab.research.google.com/github/GoogleCloudPlatform/vertex-ai-samples/blob/master/notebooks/official/vizier/gapic-vizier-multi-objective-optimization.ipynb\">\n",
    "      <img src=\"https://cloud.google.com/ml-engine/images/colab-logo-32px.png\" alt=\"Colab logo\"> Run in Colab\n",
    "    </a>\n",
    "  </td>\n",
    "  <td>\n",
    "    <a href=\"https://github.com/GoogleCloudPlatform/vertex-ai-samples/blob/master/notebooks/official/vizier/gapic-vizier-multi-objective-optimization.ipynb\">\n",
    "      <img src=\"https://cloud.google.com/ml-engine/images/github-logo-32px.png\" alt=\"GitHub logo\">\n",
    "      View on GitHub\n",
    "    </a>\n",
    "  </td>\n",
    "</table>"
   ]
  },
  {
   "cell_type": "markdown",
   "metadata": {
    "id": "AksIKBzZ-nre"
   },
   "source": [
    "# Optimizing multiple objectives\n",
    "\n",
    "This tutorial demonstrates [Vertex Vizier](https://cloud.google.com/vertex-ai/docs/vizier/overview) multi-objective optimization. Multi-objective optimization is concerned with mathematical optimization problems involving more than one objective function to be optimized simultaneously\n",
    "\n",
    "### Objective\n",
    "\n",
    "\n",
    "\n",
    "### Costs\n",
    "\n",
    "This tutorial uses billable components of Google Cloud:\n",
    "\n",
    "* Vertex AI\n",
    "\n",
    "Learn about [Vertex AI\n",
    "pricing](https://cloud.google.com/vertex-ai/pricing) and use the [Pricing\n",
    "Calculator](https://cloud.google.com/products/calculator/)\n",
    "to generate a cost estimate based on your projected usage.\n"
   ]
  },
  {
   "cell_type": "markdown",
   "metadata": {
    "id": "iMHz63rPbq6P"
   },
   "source": [
    "#### Install Vertex AI library\n",
    "\n",
    "Download and install Vertex AI library."
   ]
  },
  {
   "cell_type": "code",
   "execution_count": 1,
   "metadata": {
    "id": "b6f3dc43494b"
   },
   "outputs": [],
   "source": [
    "import os\n",
    "\n",
    "# The Google Cloud Notebook product has specific requirements\n",
    "IS_GOOGLE_CLOUD_NOTEBOOK = os.path.exists(\"/opt/deeplearning/metadata/env_version\")\n",
    "\n",
    "# Google Cloud Notebook requires dependencies to be installed with '--user'\n",
    "USER_FLAG = \"\"\n",
    "if IS_GOOGLE_CLOUD_NOTEBOOK:\n",
    "    USER_FLAG = \"--user\""
   ]
  },
  {
   "cell_type": "code",
   "execution_count": 2,
   "metadata": {
    "id": "g7WlujNxbq6Q"
   },
   "outputs": [
    {
     "name": "stdout",
     "output_type": "stream",
     "text": [
      "Requirement already satisfied: google-cloud-aiplatform in /opt/conda/lib/python3.7/site-packages (1.13.0)\n",
      "Requirement already satisfied: google-cloud-bigquery<3.0.0dev,>=1.15.0 in /opt/conda/lib/python3.7/site-packages (from google-cloud-aiplatform) (2.34.3)\n",
      "Requirement already satisfied: google-api-core[grpc]!=2.0.*,!=2.1.*,!=2.2.*,!=2.3.0,<3.0.0dev,>=1.31.5 in /opt/conda/lib/python3.7/site-packages (from google-cloud-aiplatform) (2.7.1)\n",
      "Requirement already satisfied: google-cloud-resource-manager<3.0.0dev,>=1.3.3 in /opt/conda/lib/python3.7/site-packages (from google-cloud-aiplatform) (1.4.1)\n",
      "Requirement already satisfied: proto-plus>=1.15.0 in /opt/conda/lib/python3.7/site-packages (from google-cloud-aiplatform) (1.20.3)\n",
      "Requirement already satisfied: packaging>=14.3 in /opt/conda/lib/python3.7/site-packages (from google-cloud-aiplatform) (21.3)\n",
      "Requirement already satisfied: google-cloud-storage<3.0.0dev,>=1.32.0 in /opt/conda/lib/python3.7/site-packages (from google-cloud-aiplatform) (2.3.0)\n",
      "Requirement already satisfied: requests<3.0.0dev,>=2.18.0 in /opt/conda/lib/python3.7/site-packages (from google-api-core[grpc]!=2.0.*,!=2.1.*,!=2.2.*,!=2.3.0,<3.0.0dev,>=1.31.5->google-cloud-aiplatform) (2.27.1)\n",
      "Requirement already satisfied: google-auth<3.0dev,>=1.25.0 in /opt/conda/lib/python3.7/site-packages (from google-api-core[grpc]!=2.0.*,!=2.1.*,!=2.2.*,!=2.3.0,<3.0.0dev,>=1.31.5->google-cloud-aiplatform) (2.6.6)\n",
      "Requirement already satisfied: protobuf>=3.12.0 in /opt/conda/lib/python3.7/site-packages (from google-api-core[grpc]!=2.0.*,!=2.1.*,!=2.2.*,!=2.3.0,<3.0.0dev,>=1.31.5->google-cloud-aiplatform) (3.20.1)\n",
      "Requirement already satisfied: googleapis-common-protos<2.0dev,>=1.52.0 in /opt/conda/lib/python3.7/site-packages (from google-api-core[grpc]!=2.0.*,!=2.1.*,!=2.2.*,!=2.3.0,<3.0.0dev,>=1.31.5->google-cloud-aiplatform) (1.56.1)\n",
      "Requirement already satisfied: grpcio-status<2.0dev,>=1.33.2 in /opt/conda/lib/python3.7/site-packages (from google-api-core[grpc]!=2.0.*,!=2.1.*,!=2.2.*,!=2.3.0,<3.0.0dev,>=1.31.5->google-cloud-aiplatform) (1.46.1)\n",
      "Requirement already satisfied: grpcio<2.0dev,>=1.33.2 in /opt/conda/lib/python3.7/site-packages (from google-api-core[grpc]!=2.0.*,!=2.1.*,!=2.2.*,!=2.3.0,<3.0.0dev,>=1.31.5->google-cloud-aiplatform) (1.46.1)\n",
      "Requirement already satisfied: google-cloud-core<3.0.0dev,>=1.4.1 in /opt/conda/lib/python3.7/site-packages (from google-cloud-bigquery<3.0.0dev,>=1.15.0->google-cloud-aiplatform) (2.3.0)\n",
      "Requirement already satisfied: python-dateutil<3.0dev,>=2.7.2 in /opt/conda/lib/python3.7/site-packages (from google-cloud-bigquery<3.0.0dev,>=1.15.0->google-cloud-aiplatform) (2.8.2)\n",
      "Requirement already satisfied: google-resumable-media<3.0dev,>=0.6.0 in /opt/conda/lib/python3.7/site-packages (from google-cloud-bigquery<3.0.0dev,>=1.15.0->google-cloud-aiplatform) (2.3.2)\n",
      "Requirement already satisfied: grpc-google-iam-v1<0.13dev,>=0.12.3 in /opt/conda/lib/python3.7/site-packages (from google-cloud-resource-manager<3.0.0dev,>=1.3.3->google-cloud-aiplatform) (0.12.4)\n",
      "Requirement already satisfied: pyparsing!=3.0.5,>=2.0.2 in /opt/conda/lib/python3.7/site-packages (from packaging>=14.3->google-cloud-aiplatform) (3.0.9)\n",
      "Requirement already satisfied: six>=1.9.0 in /opt/conda/lib/python3.7/site-packages (from google-auth<3.0dev,>=1.25.0->google-api-core[grpc]!=2.0.*,!=2.1.*,!=2.2.*,!=2.3.0,<3.0.0dev,>=1.31.5->google-cloud-aiplatform) (1.16.0)\n",
      "Requirement already satisfied: pyasn1-modules>=0.2.1 in /opt/conda/lib/python3.7/site-packages (from google-auth<3.0dev,>=1.25.0->google-api-core[grpc]!=2.0.*,!=2.1.*,!=2.2.*,!=2.3.0,<3.0.0dev,>=1.31.5->google-cloud-aiplatform) (0.2.7)\n",
      "Requirement already satisfied: cachetools<6.0,>=2.0.0 in /opt/conda/lib/python3.7/site-packages (from google-auth<3.0dev,>=1.25.0->google-api-core[grpc]!=2.0.*,!=2.1.*,!=2.2.*,!=2.3.0,<3.0.0dev,>=1.31.5->google-cloud-aiplatform) (5.0.0)\n",
      "Requirement already satisfied: rsa<5,>=3.1.4 in /opt/conda/lib/python3.7/site-packages (from google-auth<3.0dev,>=1.25.0->google-api-core[grpc]!=2.0.*,!=2.1.*,!=2.2.*,!=2.3.0,<3.0.0dev,>=1.31.5->google-cloud-aiplatform) (4.8)\n",
      "Requirement already satisfied: google-crc32c<2.0dev,>=1.0 in /opt/conda/lib/python3.7/site-packages (from google-resumable-media<3.0dev,>=0.6.0->google-cloud-bigquery<3.0.0dev,>=1.15.0->google-cloud-aiplatform) (1.1.2)\n",
      "Requirement already satisfied: certifi>=2017.4.17 in /opt/conda/lib/python3.7/site-packages (from requests<3.0.0dev,>=2.18.0->google-api-core[grpc]!=2.0.*,!=2.1.*,!=2.2.*,!=2.3.0,<3.0.0dev,>=1.31.5->google-cloud-aiplatform) (2021.10.8)\n",
      "Requirement already satisfied: idna<4,>=2.5 in /opt/conda/lib/python3.7/site-packages (from requests<3.0.0dev,>=2.18.0->google-api-core[grpc]!=2.0.*,!=2.1.*,!=2.2.*,!=2.3.0,<3.0.0dev,>=1.31.5->google-cloud-aiplatform) (3.3)\n",
      "Requirement already satisfied: charset-normalizer~=2.0.0 in /opt/conda/lib/python3.7/site-packages (from requests<3.0.0dev,>=2.18.0->google-api-core[grpc]!=2.0.*,!=2.1.*,!=2.2.*,!=2.3.0,<3.0.0dev,>=1.31.5->google-cloud-aiplatform) (2.0.12)\n",
      "Requirement already satisfied: urllib3<1.27,>=1.21.1 in /opt/conda/lib/python3.7/site-packages (from requests<3.0.0dev,>=2.18.0->google-api-core[grpc]!=2.0.*,!=2.1.*,!=2.2.*,!=2.3.0,<3.0.0dev,>=1.31.5->google-cloud-aiplatform) (1.26.9)\n",
      "Requirement already satisfied: cffi>=1.0.0 in /opt/conda/lib/python3.7/site-packages (from google-crc32c<2.0dev,>=1.0->google-resumable-media<3.0dev,>=0.6.0->google-cloud-bigquery<3.0.0dev,>=1.15.0->google-cloud-aiplatform) (1.15.0)\n",
      "Requirement already satisfied: pyasn1<0.5.0,>=0.4.6 in /opt/conda/lib/python3.7/site-packages (from pyasn1-modules>=0.2.1->google-auth<3.0dev,>=1.25.0->google-api-core[grpc]!=2.0.*,!=2.1.*,!=2.2.*,!=2.3.0,<3.0.0dev,>=1.31.5->google-cloud-aiplatform) (0.4.8)\n",
      "Requirement already satisfied: pycparser in /opt/conda/lib/python3.7/site-packages (from cffi>=1.0.0->google-crc32c<2.0dev,>=1.0->google-resumable-media<3.0dev,>=0.6.0->google-cloud-bigquery<3.0.0dev,>=1.15.0->google-cloud-aiplatform) (2.21)\n"
     ]
    }
   ],
   "source": [
    "! pip install {USER_FLAG} --upgrade google-cloud-aiplatform"
   ]
  },
  {
   "cell_type": "code",
   "execution_count": 7,
   "metadata": {
    "id": "O8AIwN0abq6U"
   },
   "outputs": [],
   "source": [
    "import os\n",
    "\n",
    "if not os.getenv(\"IS_TESTING\"):\n",
    "    # Restart the kernel after pip installs\n",
    "    import IPython\n",
    "\n",
    "    app = IPython.Application.instance()\n",
    "    app.kernel.do_shutdown(True)"
   ]
  },
  {
   "cell_type": "markdown",
   "metadata": {
    "id": "Xc9LnICki2Xp"
   },
   "source": [
    "### Set up your Google Cloud project\n",
    "\n",
    "**The following steps are required, regardless of your notebook environment.**\n",
    "\n",
    "1. [Select or create a Google Cloud project.](https://console.cloud.google.com/cloud-resource-manager)\n",
    "\n",
    "2. [Make sure that billing is enabled for your project.](https://cloud.google.com/billing/docs/how-to/modify-project)\n",
    "\n",
    "3. [Enable the Vertex AI APIs](https://console.cloud.google.com/flows/enableapi?apiid=aiplatform.googleapis.com)\n",
    "\n",
    "4. Enter your project ID in the cell below. Then run the  cell to make sure the\n",
    "right project is used for all the commands in this notebook.\n",
    "\n",
    "**Note**: Jupyter runs lines prefixed with `!` as shell commands, and it interpolates Python variables prefixed with `$` into these commands."
   ]
  },
  {
   "cell_type": "markdown",
   "metadata": {
    "id": "h0SMyUsC-mzi"
   },
   "source": [
    "### Authenticate your Google Cloud account\n",
    "\n",
    "**If you are using [Google Cloud Notebooks](https://cloud.google.com/ai-platform/notebooks/docs/)**, your environment is already\n",
    "authenticated. Skip these steps."
   ]
  },
  {
   "cell_type": "code",
   "execution_count": null,
   "metadata": {
    "id": "iTQY9g4mRo6r"
   },
   "outputs": [],
   "source": [
    "import os\n",
    "import sys\n",
    "\n",
    "# If you are running this notebook in Colab, run this cell and follow the\n",
    "# instructions to authenticate your GCP account. This provides access to your\n",
    "# Cloud Storage bucket and lets you submit training jobs and prediction\n",
    "# requests.\n",
    "\n",
    "# If on Google Cloud Notebooks, then don't execute this code\n",
    "if not os.path.exists(\"/opt/deeplearning/metadata/env_version\"):\n",
    "    if \"google.colab\" in sys.modules:\n",
    "        from google.colab import auth as google_auth\n",
    "\n",
    "        google_auth.authenticate_user()\n",
    "\n",
    "    # If you are running this notebook locally, replace the string below with the\n",
    "    # path to your service account key and run this cell to authenticate your GCP\n",
    "    # account.\n",
    "    elif not os.getenv(\"IS_TESTING\"):\n",
    "        %env GOOGLE_APPLICATION_CREDENTIALS ''"
   ]
  },
  {
   "cell_type": "markdown",
   "metadata": {},
   "source": [
    "### Enable cloud billing API"
   ]
  },
  {
   "cell_type": "code",
   "execution_count": 6,
   "metadata": {},
   "outputs": [
    {
     "name": "stdout",
     "output_type": "stream",
     "text": [
      "Requirement already satisfied: google-cloud-billing in /opt/conda/lib/python3.7/site-packages (1.6.0)\n",
      "Collecting lxml\n",
      "  Downloading lxml-4.8.0-cp37-cp37m-manylinux_2_17_x86_64.manylinux2014_x86_64.manylinux_2_24_x86_64.whl (6.4 MB)\n",
      "\u001b[2K     \u001b[90m━━━━━━━━━━━━━━━━━━━━━━━━━━━━━━━━━━━━━━━━\u001b[0m \u001b[32m6.4/6.4 MB\u001b[0m \u001b[31m29.1 MB/s\u001b[0m eta \u001b[36m0:00:00\u001b[0m00:01\u001b[0m00:01\u001b[0m\n",
      "\u001b[?25hRequirement already satisfied: grpc-google-iam-v1<1.0.0dev,>=0.12.4 in /opt/conda/lib/python3.7/site-packages (from google-cloud-billing) (0.12.4)\n",
      "Requirement already satisfied: proto-plus>=1.15.0 in /opt/conda/lib/python3.7/site-packages (from google-cloud-billing) (1.20.3)\n",
      "Requirement already satisfied: google-api-core[grpc]!=2.0.*,!=2.1.*,!=2.2.*,!=2.3.0,<3.0.0dev,>=1.31.5 in /opt/conda/lib/python3.7/site-packages (from google-cloud-billing) (2.7.1)\n",
      "Requirement already satisfied: protobuf>=3.12.0 in /opt/conda/lib/python3.7/site-packages (from google-api-core[grpc]!=2.0.*,!=2.1.*,!=2.2.*,!=2.3.0,<3.0.0dev,>=1.31.5->google-cloud-billing) (3.20.1)\n",
      "Requirement already satisfied: google-auth<3.0dev,>=1.25.0 in /opt/conda/lib/python3.7/site-packages (from google-api-core[grpc]!=2.0.*,!=2.1.*,!=2.2.*,!=2.3.0,<3.0.0dev,>=1.31.5->google-cloud-billing) (2.6.6)\n",
      "Requirement already satisfied: googleapis-common-protos<2.0dev,>=1.52.0 in /opt/conda/lib/python3.7/site-packages (from google-api-core[grpc]!=2.0.*,!=2.1.*,!=2.2.*,!=2.3.0,<3.0.0dev,>=1.31.5->google-cloud-billing) (1.56.1)\n",
      "Requirement already satisfied: requests<3.0.0dev,>=2.18.0 in /opt/conda/lib/python3.7/site-packages (from google-api-core[grpc]!=2.0.*,!=2.1.*,!=2.2.*,!=2.3.0,<3.0.0dev,>=1.31.5->google-cloud-billing) (2.27.1)\n",
      "Requirement already satisfied: grpcio-status<2.0dev,>=1.33.2 in /opt/conda/lib/python3.7/site-packages (from google-api-core[grpc]!=2.0.*,!=2.1.*,!=2.2.*,!=2.3.0,<3.0.0dev,>=1.31.5->google-cloud-billing) (1.46.1)\n",
      "Requirement already satisfied: grpcio<2.0dev,>=1.33.2 in /opt/conda/lib/python3.7/site-packages (from google-api-core[grpc]!=2.0.*,!=2.1.*,!=2.2.*,!=2.3.0,<3.0.0dev,>=1.31.5->google-cloud-billing) (1.46.1)\n",
      "Requirement already satisfied: pyasn1-modules>=0.2.1 in /opt/conda/lib/python3.7/site-packages (from google-auth<3.0dev,>=1.25.0->google-api-core[grpc]!=2.0.*,!=2.1.*,!=2.2.*,!=2.3.0,<3.0.0dev,>=1.31.5->google-cloud-billing) (0.2.7)\n",
      "Requirement already satisfied: cachetools<6.0,>=2.0.0 in /opt/conda/lib/python3.7/site-packages (from google-auth<3.0dev,>=1.25.0->google-api-core[grpc]!=2.0.*,!=2.1.*,!=2.2.*,!=2.3.0,<3.0.0dev,>=1.31.5->google-cloud-billing) (5.0.0)\n",
      "Requirement already satisfied: six>=1.9.0 in /opt/conda/lib/python3.7/site-packages (from google-auth<3.0dev,>=1.25.0->google-api-core[grpc]!=2.0.*,!=2.1.*,!=2.2.*,!=2.3.0,<3.0.0dev,>=1.31.5->google-cloud-billing) (1.16.0)\n",
      "Requirement already satisfied: rsa<5,>=3.1.4 in /opt/conda/lib/python3.7/site-packages (from google-auth<3.0dev,>=1.25.0->google-api-core[grpc]!=2.0.*,!=2.1.*,!=2.2.*,!=2.3.0,<3.0.0dev,>=1.31.5->google-cloud-billing) (4.8)\n",
      "Requirement already satisfied: certifi>=2017.4.17 in /opt/conda/lib/python3.7/site-packages (from requests<3.0.0dev,>=2.18.0->google-api-core[grpc]!=2.0.*,!=2.1.*,!=2.2.*,!=2.3.0,<3.0.0dev,>=1.31.5->google-cloud-billing) (2021.10.8)\n",
      "Requirement already satisfied: idna<4,>=2.5 in /opt/conda/lib/python3.7/site-packages (from requests<3.0.0dev,>=2.18.0->google-api-core[grpc]!=2.0.*,!=2.1.*,!=2.2.*,!=2.3.0,<3.0.0dev,>=1.31.5->google-cloud-billing) (3.3)\n",
      "Requirement already satisfied: urllib3<1.27,>=1.21.1 in /opt/conda/lib/python3.7/site-packages (from requests<3.0.0dev,>=2.18.0->google-api-core[grpc]!=2.0.*,!=2.1.*,!=2.2.*,!=2.3.0,<3.0.0dev,>=1.31.5->google-cloud-billing) (1.26.9)\n",
      "Requirement already satisfied: charset-normalizer~=2.0.0 in /opt/conda/lib/python3.7/site-packages (from requests<3.0.0dev,>=2.18.0->google-api-core[grpc]!=2.0.*,!=2.1.*,!=2.2.*,!=2.3.0,<3.0.0dev,>=1.31.5->google-cloud-billing) (2.0.12)\n",
      "Requirement already satisfied: pyasn1<0.5.0,>=0.4.6 in /opt/conda/lib/python3.7/site-packages (from pyasn1-modules>=0.2.1->google-auth<3.0dev,>=1.25.0->google-api-core[grpc]!=2.0.*,!=2.1.*,!=2.2.*,!=2.3.0,<3.0.0dev,>=1.31.5->google-cloud-billing) (0.4.8)\n",
      "Installing collected packages: lxml\n",
      "Successfully installed lxml-4.8.0\n"
     ]
    }
   ],
   "source": [
    "!pip install google-cloud-billing lxml"
   ]
  },
  {
   "cell_type": "code",
   "execution_count": 1,
   "metadata": {},
   "outputs": [
    {
     "name": "stdout",
     "output_type": "stream",
     "text": [
      "Operation \"operations/acat.p2-712758616004-62cd66d2-3fd2-4255-92dd-be9f4e8d9f2d\" finished successfully.\n"
     ]
    }
   ],
   "source": [
    "!#gcloud services list --available | grep billing\n",
    "!gcloud services enable cloudbilling.googleapis.com"
   ]
  },
  {
   "cell_type": "markdown",
   "metadata": {
    "id": "Dax2zrpTi2Xy",
    "tags": []
   },
   "source": [
    "### Import libraries and define constants"
   ]
  },
  {
   "cell_type": "code",
   "execution_count": 109,
   "metadata": {
    "id": "xD60d6Q0i2X0"
   },
   "outputs": [],
   "source": [
    "import datetime\n",
    "import json\n",
    "\n",
    "from google.cloud import aiplatform"
   ]
  },
  {
   "cell_type": "markdown",
   "metadata": {
    "id": "CWuu4wmki2X3"
   },
   "source": [
    "## Cost Optimization\n"
   ]
  },
  {
   "cell_type": "markdown",
   "metadata": {
    "id": "KyEjqIdnad0w"
   },
   "source": [
    "This section defines some parameters and util methods to call Vertex Vizier APIs. Please fill in the following information to get started."
   ]
  },
  {
   "cell_type": "code",
   "execution_count": 110,
   "metadata": {
    "id": "8HCgeF8had77"
   },
   "outputs": [
    {
     "name": "stdout",
     "output_type": "stream",
     "text": [
      "ENDPOINT: us-central1-aiplatform.googleapis.com\n",
      "REGION: us-central1\n",
      "PARENT: projects/sungyong-internship/locations/us-central1\n",
      "Updated property [core/project].\n"
     ]
    }
   ],
   "source": [
    "# Fill in your project ID and region\n",
    "REGION = \"us-central1\"  # @param {type:\"string\"}\n",
    "PROJECT_ID = \"sungyong-internship\"  # @param {type:\"string\"}\n",
    "\n",
    "# These will be automatically filled in.\n",
    "STUDY_DISPLAY_NAME = \"{}_study_{}\".format(\n",
    "    PROJECT_ID.replace(\"-\", \"\"), datetime.datetime.now().strftime(\"%Y%m%d_%H%M%S\")\n",
    ")  # @param {type: 'string'}\n",
    "ENDPOINT = REGION + \"-aiplatform.googleapis.com\"\n",
    "PARENT = \"projects/{}/locations/{}\".format(PROJECT_ID, REGION)\n",
    "\n",
    "print(\"ENDPOINT: {}\".format(ENDPOINT))\n",
    "print(\"REGION: {}\".format(REGION))\n",
    "print(\"PARENT: {}\".format(PARENT))\n",
    "\n",
    "# If you don't know your project ID, you might be able to get your project ID\n",
    "# using gcloud command by executing the second cell below.\n",
    "if PROJECT_ID == \"\" or PROJECT_ID is None or PROJECT_ID == \"[your-project-id]\":\n",
    "    # Get your GCP project id from gcloud\n",
    "    shell_output = !gcloud config list --format 'value(core.project)' 2>/dev/null\n",
    "    PROJECT_ID = shell_output[0]\n",
    "    print(\"Project ID:\", PROJECT_ID)\n",
    "! gcloud config set project $PROJECT_ID"
   ]
  },
  {
   "cell_type": "code",
   "execution_count": 11,
   "metadata": {},
   "outputs": [
    {
     "data": {
      "text/html": [
       "<div>\n",
       "<style scoped>\n",
       "    .dataframe tbody tr th:only-of-type {\n",
       "        vertical-align: middle;\n",
       "    }\n",
       "\n",
       "    .dataframe tbody tr th {\n",
       "        vertical-align: top;\n",
       "    }\n",
       "\n",
       "    .dataframe thead th {\n",
       "        text-align: right;\n",
       "    }\n",
       "</style>\n",
       "<table border=\"1\" class=\"dataframe\">\n",
       "  <thead>\n",
       "    <tr style=\"text-align: right;\">\n",
       "      <th></th>\n",
       "      <th>Machine type</th>\n",
       "      <th>NVIDIA_TESLA_A100</th>\n",
       "      <th>NVIDIA_TESLA_K80</th>\n",
       "      <th>NVIDIA_TESLA_P4</th>\n",
       "      <th>NVIDIA_TESLA_P100</th>\n",
       "      <th>NVIDIA_TESLA_T4</th>\n",
       "      <th>NVIDIA_TESLA_V100</th>\n",
       "    </tr>\n",
       "  </thead>\n",
       "  <tbody>\n",
       "    <tr>\n",
       "      <th>0</th>\n",
       "      <td>a2-highgpu-1g</td>\n",
       "      <td>1.0</td>\n",
       "      <td>NaN</td>\n",
       "      <td>NaN</td>\n",
       "      <td>NaN</td>\n",
       "      <td>NaN</td>\n",
       "      <td>NaN</td>\n",
       "    </tr>\n",
       "    <tr>\n",
       "      <th>1</th>\n",
       "      <td>a2-highgpu-2g</td>\n",
       "      <td>2.0</td>\n",
       "      <td>NaN</td>\n",
       "      <td>NaN</td>\n",
       "      <td>NaN</td>\n",
       "      <td>NaN</td>\n",
       "      <td>NaN</td>\n",
       "    </tr>\n",
       "    <tr>\n",
       "      <th>2</th>\n",
       "      <td>a2-highgpu-4g</td>\n",
       "      <td>4.0</td>\n",
       "      <td>NaN</td>\n",
       "      <td>NaN</td>\n",
       "      <td>NaN</td>\n",
       "      <td>NaN</td>\n",
       "      <td>NaN</td>\n",
       "    </tr>\n",
       "    <tr>\n",
       "      <th>3</th>\n",
       "      <td>a2-highgpu-8g</td>\n",
       "      <td>8.0</td>\n",
       "      <td>NaN</td>\n",
       "      <td>NaN</td>\n",
       "      <td>NaN</td>\n",
       "      <td>NaN</td>\n",
       "      <td>NaN</td>\n",
       "    </tr>\n",
       "    <tr>\n",
       "      <th>4</th>\n",
       "      <td>a2-megagpu-16g</td>\n",
       "      <td>16.0</td>\n",
       "      <td>NaN</td>\n",
       "      <td>NaN</td>\n",
       "      <td>NaN</td>\n",
       "      <td>NaN</td>\n",
       "      <td>NaN</td>\n",
       "    </tr>\n",
       "    <tr>\n",
       "      <th>5</th>\n",
       "      <td>n1-standard-4</td>\n",
       "      <td>NaN</td>\n",
       "      <td>1, 2, 4, 8</td>\n",
       "      <td>1, 2, 4</td>\n",
       "      <td>1, 2, 4</td>\n",
       "      <td>1, 2, 4</td>\n",
       "      <td>1, 2, 4, 8</td>\n",
       "    </tr>\n",
       "    <tr>\n",
       "      <th>6</th>\n",
       "      <td>n1-standard-8</td>\n",
       "      <td>NaN</td>\n",
       "      <td>1, 2, 4, 8</td>\n",
       "      <td>1, 2, 4</td>\n",
       "      <td>1, 2, 4</td>\n",
       "      <td>1, 2, 4</td>\n",
       "      <td>1, 2, 4, 8</td>\n",
       "    </tr>\n",
       "    <tr>\n",
       "      <th>7</th>\n",
       "      <td>n1-standard-16</td>\n",
       "      <td>NaN</td>\n",
       "      <td>2, 4, 8</td>\n",
       "      <td>1, 2, 4</td>\n",
       "      <td>1, 2, 4</td>\n",
       "      <td>1, 2, 4</td>\n",
       "      <td>2, 4, 8</td>\n",
       "    </tr>\n",
       "    <tr>\n",
       "      <th>8</th>\n",
       "      <td>n1-standard-32</td>\n",
       "      <td>NaN</td>\n",
       "      <td>4, 8</td>\n",
       "      <td>2, 4</td>\n",
       "      <td>2, 4</td>\n",
       "      <td>2, 4</td>\n",
       "      <td>4, 8</td>\n",
       "    </tr>\n",
       "    <tr>\n",
       "      <th>9</th>\n",
       "      <td>n1-standard-64</td>\n",
       "      <td>NaN</td>\n",
       "      <td>NaN</td>\n",
       "      <td>4</td>\n",
       "      <td>NaN</td>\n",
       "      <td>4</td>\n",
       "      <td>8</td>\n",
       "    </tr>\n",
       "    <tr>\n",
       "      <th>10</th>\n",
       "      <td>n1-standard-96</td>\n",
       "      <td>NaN</td>\n",
       "      <td>NaN</td>\n",
       "      <td>4</td>\n",
       "      <td>NaN</td>\n",
       "      <td>4</td>\n",
       "      <td>8</td>\n",
       "    </tr>\n",
       "    <tr>\n",
       "      <th>11</th>\n",
       "      <td>n1-highmem-2</td>\n",
       "      <td>NaN</td>\n",
       "      <td>1, 2, 4, 8</td>\n",
       "      <td>1, 2, 4</td>\n",
       "      <td>1, 2, 4</td>\n",
       "      <td>1, 2, 4</td>\n",
       "      <td>1, 2, 4, 8</td>\n",
       "    </tr>\n",
       "    <tr>\n",
       "      <th>12</th>\n",
       "      <td>n1-highmem-4</td>\n",
       "      <td>NaN</td>\n",
       "      <td>1, 2, 4, 8</td>\n",
       "      <td>1, 2, 4</td>\n",
       "      <td>1, 2, 4</td>\n",
       "      <td>1, 2, 4</td>\n",
       "      <td>1, 2, 4, 8</td>\n",
       "    </tr>\n",
       "    <tr>\n",
       "      <th>13</th>\n",
       "      <td>n1-highmem-8</td>\n",
       "      <td>NaN</td>\n",
       "      <td>1, 2, 4, 8</td>\n",
       "      <td>1, 2, 4</td>\n",
       "      <td>1, 2, 4</td>\n",
       "      <td>1, 2, 4</td>\n",
       "      <td>1, 2, 4, 8</td>\n",
       "    </tr>\n",
       "    <tr>\n",
       "      <th>14</th>\n",
       "      <td>n1-highmem-16</td>\n",
       "      <td>NaN</td>\n",
       "      <td>2, 4, 8</td>\n",
       "      <td>1, 2, 4</td>\n",
       "      <td>1, 2, 4</td>\n",
       "      <td>1, 2, 4</td>\n",
       "      <td>2, 4, 8</td>\n",
       "    </tr>\n",
       "    <tr>\n",
       "      <th>15</th>\n",
       "      <td>n1-highmem-32</td>\n",
       "      <td>NaN</td>\n",
       "      <td>4, 8</td>\n",
       "      <td>2, 4</td>\n",
       "      <td>2, 4</td>\n",
       "      <td>2, 4</td>\n",
       "      <td>4, 8</td>\n",
       "    </tr>\n",
       "    <tr>\n",
       "      <th>16</th>\n",
       "      <td>n1-highmem-64</td>\n",
       "      <td>NaN</td>\n",
       "      <td>NaN</td>\n",
       "      <td>4</td>\n",
       "      <td>NaN</td>\n",
       "      <td>4</td>\n",
       "      <td>8</td>\n",
       "    </tr>\n",
       "    <tr>\n",
       "      <th>17</th>\n",
       "      <td>n1-highmem-96</td>\n",
       "      <td>NaN</td>\n",
       "      <td>NaN</td>\n",
       "      <td>4</td>\n",
       "      <td>NaN</td>\n",
       "      <td>4</td>\n",
       "      <td>8</td>\n",
       "    </tr>\n",
       "    <tr>\n",
       "      <th>18</th>\n",
       "      <td>n1-highcpu-16</td>\n",
       "      <td>NaN</td>\n",
       "      <td>2, 4, 8</td>\n",
       "      <td>1, 2, 4</td>\n",
       "      <td>1, 2, 4</td>\n",
       "      <td>1, 2, 4</td>\n",
       "      <td>2, 4, 8</td>\n",
       "    </tr>\n",
       "    <tr>\n",
       "      <th>19</th>\n",
       "      <td>n1-highcpu-32</td>\n",
       "      <td>NaN</td>\n",
       "      <td>4, 8</td>\n",
       "      <td>2, 4</td>\n",
       "      <td>2, 4</td>\n",
       "      <td>2, 4</td>\n",
       "      <td>4, 8</td>\n",
       "    </tr>\n",
       "    <tr>\n",
       "      <th>20</th>\n",
       "      <td>n1-highcpu-64</td>\n",
       "      <td>NaN</td>\n",
       "      <td>8</td>\n",
       "      <td>4</td>\n",
       "      <td>4</td>\n",
       "      <td>4</td>\n",
       "      <td>8</td>\n",
       "    </tr>\n",
       "    <tr>\n",
       "      <th>21</th>\n",
       "      <td>n1-highcpu-96</td>\n",
       "      <td>NaN</td>\n",
       "      <td>NaN</td>\n",
       "      <td>4</td>\n",
       "      <td>NaN</td>\n",
       "      <td>4</td>\n",
       "      <td>8</td>\n",
       "    </tr>\n",
       "  </tbody>\n",
       "</table>\n",
       "</div>"
      ],
      "text/plain": [
       "      Machine type  NVIDIA_TESLA_A100 NVIDIA_TESLA_K80 NVIDIA_TESLA_P4  \\\n",
       "0    a2-highgpu-1g                1.0              NaN             NaN   \n",
       "1    a2-highgpu-2g                2.0              NaN             NaN   \n",
       "2    a2-highgpu-4g                4.0              NaN             NaN   \n",
       "3    a2-highgpu-8g                8.0              NaN             NaN   \n",
       "4   a2-megagpu-16g               16.0              NaN             NaN   \n",
       "5    n1-standard-4                NaN       1, 2, 4, 8         1, 2, 4   \n",
       "6    n1-standard-8                NaN       1, 2, 4, 8         1, 2, 4   \n",
       "7   n1-standard-16                NaN          2, 4, 8         1, 2, 4   \n",
       "8   n1-standard-32                NaN             4, 8            2, 4   \n",
       "9   n1-standard-64                NaN              NaN               4   \n",
       "10  n1-standard-96                NaN              NaN               4   \n",
       "11    n1-highmem-2                NaN       1, 2, 4, 8         1, 2, 4   \n",
       "12    n1-highmem-4                NaN       1, 2, 4, 8         1, 2, 4   \n",
       "13    n1-highmem-8                NaN       1, 2, 4, 8         1, 2, 4   \n",
       "14   n1-highmem-16                NaN          2, 4, 8         1, 2, 4   \n",
       "15   n1-highmem-32                NaN             4, 8            2, 4   \n",
       "16   n1-highmem-64                NaN              NaN               4   \n",
       "17   n1-highmem-96                NaN              NaN               4   \n",
       "18   n1-highcpu-16                NaN          2, 4, 8         1, 2, 4   \n",
       "19   n1-highcpu-32                NaN             4, 8            2, 4   \n",
       "20   n1-highcpu-64                NaN                8               4   \n",
       "21   n1-highcpu-96                NaN              NaN               4   \n",
       "\n",
       "   NVIDIA_TESLA_P100 NVIDIA_TESLA_T4 NVIDIA_TESLA_V100  \n",
       "0                NaN             NaN               NaN  \n",
       "1                NaN             NaN               NaN  \n",
       "2                NaN             NaN               NaN  \n",
       "3                NaN             NaN               NaN  \n",
       "4                NaN             NaN               NaN  \n",
       "5            1, 2, 4         1, 2, 4        1, 2, 4, 8  \n",
       "6            1, 2, 4         1, 2, 4        1, 2, 4, 8  \n",
       "7            1, 2, 4         1, 2, 4           2, 4, 8  \n",
       "8               2, 4            2, 4              4, 8  \n",
       "9                NaN               4                 8  \n",
       "10               NaN               4                 8  \n",
       "11           1, 2, 4         1, 2, 4        1, 2, 4, 8  \n",
       "12           1, 2, 4         1, 2, 4        1, 2, 4, 8  \n",
       "13           1, 2, 4         1, 2, 4        1, 2, 4, 8  \n",
       "14           1, 2, 4         1, 2, 4           2, 4, 8  \n",
       "15              2, 4            2, 4              4, 8  \n",
       "16               NaN               4                 8  \n",
       "17               NaN               4                 8  \n",
       "18           1, 2, 4         1, 2, 4           2, 4, 8  \n",
       "19              2, 4            2, 4              4, 8  \n",
       "20                 4               4                 8  \n",
       "21               NaN               4                 8  "
      ]
     },
     "execution_count": 11,
     "metadata": {},
     "output_type": "execute_result"
    }
   ],
   "source": [
    "import pandas as pd\n",
    "\n",
    "table_vertex_compute = pd.read_html('https://cloud.google.com/vertex-ai/docs/training/configure-compute', attrs={\"id\": \"gpu-compatibility-table\"})[0]\n",
    "\n",
    "table_vertex_compute.columns = table_vertex_compute.columns.droplevel(0)\n",
    "table_vertex_compute\n"
   ]
  },
  {
   "cell_type": "code",
   "execution_count": 12,
   "metadata": {},
   "outputs": [
    {
     "data": {
      "text/plain": [
       "['NVIDIA_TESLA_A100',\n",
       " 'NVIDIA_TESLA_K80',\n",
       " 'NVIDIA_TESLA_P4',\n",
       " 'NVIDIA_TESLA_P100',\n",
       " 'NVIDIA_TESLA_T4',\n",
       " 'NVIDIA_TESLA_V100']"
      ]
     },
     "execution_count": 12,
     "metadata": {},
     "output_type": "execute_result"
    }
   ],
   "source": [
    "GPUS = table_vertex_compute.columns.tolist()[1:]\n",
    "GPUS"
   ]
  },
  {
   "cell_type": "code",
   "execution_count": 13,
   "metadata": {},
   "outputs": [
    {
     "data": {
      "text/plain": [
       "['a2-highgpu-1g',\n",
       " 'a2-highgpu-2g',\n",
       " 'a2-highgpu-4g',\n",
       " 'a2-highgpu-8g',\n",
       " 'a2-megagpu-16g',\n",
       " 'n1-standard-4',\n",
       " 'n1-standard-8',\n",
       " 'n1-standard-16',\n",
       " 'n1-standard-32',\n",
       " 'n1-standard-64',\n",
       " 'n1-standard-96',\n",
       " 'n1-highmem-2',\n",
       " 'n1-highmem-4',\n",
       " 'n1-highmem-8',\n",
       " 'n1-highmem-16',\n",
       " 'n1-highmem-32',\n",
       " 'n1-highmem-64',\n",
       " 'n1-highmem-96',\n",
       " 'n1-highcpu-16',\n",
       " 'n1-highcpu-32',\n",
       " 'n1-highcpu-64',\n",
       " 'n1-highcpu-96']"
      ]
     },
     "execution_count": 13,
     "metadata": {},
     "output_type": "execute_result"
    }
   ],
   "source": [
    "MACHINE_SHAPES = table_vertex_compute['Machine type'].tolist()\n",
    "MACHINE_SHAPES"
   ]
  },
  {
   "cell_type": "markdown",
   "metadata": {
    "id": "8NBduXsEaRKr"
   },
   "source": [
    "### Create the study configuration\n",
    "\n",
    "The following is a sample study configuration, built as a hierarchical python dictionary. It is already filled out. Run the cell to configure the study."
   ]
  },
  {
   "cell_type": "code",
   "execution_count": 459,
   "metadata": {
    "id": "s-AHfPOASXXW"
   },
   "outputs": [
    {
     "name": "stdout",
     "output_type": "stream",
     "text": [
      "{\n",
      "  \"display_name\": \"Tabnet_GPU_Cost_Optimization_v2\",\n",
      "  \"study_spec\": {\n",
      "    \"metrics\": [\n",
      "      {\n",
      "        \"goal\": \"MINIMIZE\",\n",
      "        \"metric_id\": \"training_time\"\n",
      "      },\n",
      "      {\n",
      "        \"goal\": \"MINIMIZE\",\n",
      "        \"metric_id\": \"estimated_training_cost\"\n",
      "      },\n",
      "      {\n",
      "        \"goal\": \"MAXIMIZE\",\n",
      "        \"metric_id\": \"average_gpu_utilization\"\n",
      "      }\n",
      "    ],\n",
      "    \"parameters\": [\n",
      "      {\n",
      "        \"categorical_value_spec\": {\n",
      "          \"values\": [\n",
      "            \"n1-standard-4\",\n",
      "            \"n1-standard-8\"\n",
      "          ]\n",
      "        },\n",
      "        \"parameter_id\": \"machine_type\"\n",
      "      },\n",
      "      {\n",
      "        \"categorical_value_spec\": {\n",
      "          \"values\": [\n",
      "            \"NVIDIA_TESLA_K80\",\n",
      "            \"NVIDIA_TESLA_P4\",\n",
      "            \"NVIDIA_TESLA_P100\",\n",
      "            \"NVIDIA_TESLA_T4\",\n",
      "            \"NVIDIA_TESLA_V100\"\n",
      "          ]\n",
      "        },\n",
      "        \"parameter_id\": \"gpu_type\"\n",
      "      },\n",
      "      {\n",
      "        \"discrete_value_spec\": {\n",
      "          \"values\": [\n",
      "            1,\n",
      "            2,\n",
      "            4\n",
      "          ]\n",
      "        },\n",
      "        \"parameter_id\": \"gpu_count\"\n",
      "      }\n",
      "    ]\n",
      "  }\n",
      "}\n"
     ]
    }
   ],
   "source": [
    "import json\n",
    "\n",
    "\n",
    "#RJV - Hardcoding for testing - these values will be populated by the dataframe above\n",
    "param_machine_type = {\"parameter_id\": \"machine_type\",\"categorical_value_spec\": {\"values\":[\"n1-standard-4\",\"n1-standard-8\"]}}\n",
    "\n",
    "param_gpu_type = {\"parameter_id\": \"gpu_type\",\"categorical_value_spec\": {\"values\":[\"NVIDIA_TESLA_K80\",\"NVIDIA_TESLA_P4\",\"NVIDIA_TESLA_P100\",\"NVIDIA_TESLA_T4\",\"NVIDIA_TESLA_V100\"]}}\n",
    "\n",
    "param_gpu_count = {\"parameter_id\": \"gpu_count\",\"discrete_value_spec\": {\"values\":[1,2,4]}}\n",
    "# - maybe only explore - 2 & 8 (if it is, then maybe just 2)\n",
    "\n",
    "\n",
    "# Objective Metrics\n",
    "metric_training_time = {\"metric_id\": \"training_time\", \"goal\": \"MINIMIZE\"}\n",
    "\n",
    "metric_estimated_training_cost = {\"metric_id\": \"estimated_training_cost\", \"goal\": \"MINIMIZE\"}\n",
    "\n",
    "metric_gpu_utilization = {\"metric_id\": \"average_gpu_utilization\", \"goal\": \"MAXIMIZE\"}\n",
    "\n",
    "\n",
    "# Put it all together in a study configuration\n",
    "study = {\n",
    "    \"display_name\": 'Tabnet_GPU_Cost_Optimization_v2',\n",
    "    \"study_spec\": {\n",
    "        #\"algorithm\": \"RANDOM_SEARCH\",\n",
    "        \"parameters\": [\n",
    "            param_machine_type,\n",
    "            param_gpu_type,\n",
    "            param_gpu_count,\n",
    "        ],\n",
    "        \"metrics\": [metric_training_time, metric_estimated_training_cost, metric_gpu_utilization],\n",
    "    },\n",
    "}\n",
    "\n",
    "print(json.dumps(study, indent=2, sort_keys=True))"
   ]
  },
  {
   "cell_type": "code",
   "execution_count": null,
   "metadata": {},
   "outputs": [],
   "source": []
  },
  {
   "cell_type": "markdown",
   "metadata": {
    "id": "uyXG_RKha7Kb"
   },
   "source": [
    "### Create the study\n",
    "\n",
    "Next, create the study, which you will subsequently run to optimize the two objectives."
   ]
  },
  {
   "cell_type": "code",
   "execution_count": 460,
   "metadata": {
    "id": "jgskzqZX0Mkt"
   },
   "outputs": [
    {
     "name": "stderr",
     "output_type": "stream",
     "text": [
      "E0519 15:26:38.053516013   21151 fork_posix.cc:70]           Fork support is only compatible with the epoll1 and poll polling strategies\n"
     ]
    },
    {
     "name": "stdout",
     "output_type": "stream",
     "text": [
      "STUDY_ID: projects/497728924767/locations/us-central1/studies/1027326038140\n"
     ]
    }
   ],
   "source": [
    "vizier_client = aiplatform.gapic.VizierServiceClient(\n",
    "    client_options=dict(api_endpoint=ENDPOINT)\n",
    ")\n",
    "study = vizier_client.create_study(parent=PARENT, study=study)\n",
    "STUDY_ID = study.name\n",
    "print(\"STUDY_ID: {}\".format(STUDY_ID))"
   ]
  },
  {
   "cell_type": "code",
   "execution_count": 451,
   "metadata": {},
   "outputs": [],
   "source": [
    "### Delete study\n",
    "vizier_client.delete_study({'name':'projects/497728924767/locations/us-central1/studies/527434739702'})"
   ]
  },
  {
   "cell_type": "markdown",
   "metadata": {},
   "source": [
    "### Hourly (list) prices for machine/gpu configurations"
   ]
  },
  {
   "cell_type": "code",
   "execution_count": 93,
   "metadata": {},
   "outputs": [],
   "source": [
    "from google.cloud import billing_v1\n",
    "import re\n",
    "\n",
    "CACHED_PRICES=False\n",
    "GPU_PRICES= {}\n",
    "INSTANCE_CORE_PRICES = {}\n",
    "INSTANCE_RAM_PRICES = {}\n",
    "\n",
    "def normalize_price(response):\n",
    "    unit_price = response.pricing_info[0].pricing_expression.tiered_rates[0].unit_price\n",
    "    cents = unit_price.nanos/1000000000\n",
    "    if hasattr(unit_price, 'units'):\n",
    "        price= unit_price.units + cents\n",
    "    else:\n",
    "        price = cents\n",
    "    return price\n",
    "\n",
    "def get_machine_specs(machine_shape):\n",
    "    m_class,m_type,m_cores = machine_shape.split('-')\n",
    "    if m_class == 'a2':\n",
    "        #12 vcpu, 85 Gb RAM per gpu\n",
    "        gpus,_ = m_cores.split('g')\n",
    "        gpus = int(gpus)\n",
    "        return {'class':m_class,'cores':  gpus * 12, 'ram': gpus * 72 }\n",
    "    elif m_class == 'n1':\n",
    "        #n1-standard: 3.75 Gb RAM per core\n",
    "        if m_type == 'standard':\n",
    "            mult = 3.75        \n",
    "        #n1-highmem: 6.5 Gb RAM per core\n",
    "        if m_type == 'highmem':\n",
    "            mult = 6.5\n",
    "         #n1-highcpu: 1.8 Gb RAM per core\n",
    "        if m_type == 'highcpu':\n",
    "            mult = 1.8\n",
    "        return {'class':m_class,'cores':  int(m_cores), 'ram': int(m_cores) * mult }\n",
    "    elif m_class == 'e2' or m_class == 'c2':\n",
    "        #e2-standard: 4 Gb RAM per core\n",
    "        if m_type == 'standard':\n",
    "            mult = 4        \n",
    "        #e2-highmem: 8 Gb RAM per core\n",
    "        if m_type == 'highmem':\n",
    "            mult = 8\n",
    "         #e2-highcpu: 1 Gb RAM per core\n",
    "        if m_type == 'highcpu':\n",
    "            mult = 1\n",
    "        return {'class':m_class,'cores':  int(m_cores), 'ram': int(m_cores) * mult }\n",
    "\n",
    "\n",
    "def get_hourly_price(machine_shape, gpu_type='ACCELERATOR_TYPE_UNSPECIFIED', gpu_count=0):\n",
    "    global CACHED_PRICES\n",
    "    \n",
    "    # Create a client\n",
    "    \n",
    "    if not CACHED_PRICES:\n",
    "        client = billing_v1.CloudCatalogClient()\n",
    "\n",
    "        # Initialize request argument(s)\n",
    "        request = billing_v1.ListSkusRequest(\n",
    "            parent=\"services/C7E2-9256-1C43\",\n",
    "        )\n",
    "\n",
    "        # Make the request\n",
    "        page_result = client.list_skus(request=request)\n",
    "\n",
    "        # Look specifically for Vertex AI Training Americas\n",
    "        for response in page_result:\n",
    "            #print(response)\n",
    "            #GPU\n",
    "            match = re.match(r'Vertex AI: Training/Pipelines.+Nvidia.+Americas',response.description)\n",
    "            if match is not None:\n",
    "                for gpu in GPUS:\n",
    "                    _,gpu_id = gpu.split('NVIDIA_TESLA_')\n",
    "                    gpu_match = re.search(gpu_id,response.description)\n",
    "                    if gpu_match is not None:\n",
    "                        price = normalize_price(response)\n",
    "                        GPU_PRICES[gpu]=price\n",
    "            match = re.match(r'Vertex AI: Training/Pipelines.+N1.+Americas',response.description)\n",
    "            if match is not None:\n",
    "                instance_match = re.search(\"Instance Core\",response.description)\n",
    "                if instance_match is not None:\n",
    "                    price = normalize_price(response)\n",
    "                    INSTANCE_CORE_PRICES['n1']=price\n",
    "                ram_match = re.search(\"Instance Ram\",response.description)\n",
    "                if ram_match is not None:\n",
    "                    price = normalize_price(response)\n",
    "                    INSTANCE_RAM_PRICES['n1']=price\n",
    "            match = re.match(r'Vertex AI: Training/Pipelines.+A2.+Americas',response.description)\n",
    "            if match is not None:\n",
    "                instance_match = re.search(\"Instance Core\",response.description)\n",
    "                if instance_match is not None:\n",
    "                    price = normalize_price(response)\n",
    "                    INSTANCE_CORE_PRICES['a2']=price\n",
    "                ram_match = re.search(\"Instance Ram\",response.description)\n",
    "                if ram_match is not None:\n",
    "                    price = normalize_price(response)\n",
    "                    INSTANCE_RAM_PRICES['a2']=price\n",
    "            match = re.match(r'Vertex AI: Training/Pipelines.+E2.+Americas',response.description)\n",
    "            if match is not None:\n",
    "                instance_match = re.search(\"Instance Core\",response.description)\n",
    "                if instance_match is not None:\n",
    "                    price = normalize_price(response)\n",
    "                    INSTANCE_CORE_PRICES['e2']=price\n",
    "                ram_match = re.search(\"Instance Ram\",response.description)\n",
    "                if ram_match is not None:\n",
    "                    price = normalize_price(response)\n",
    "                    INSTANCE_RAM_PRICES['e2']=price\n",
    "            match = re.match(r'Vertex AI: Training/Pipelines.+Compute optimized.+Americas',response.description)\n",
    "            if match is not None:\n",
    "                instance_match = re.search(\"Core\",response.description)\n",
    "                if instance_match is not None:\n",
    "                    price = normalize_price(response)\n",
    "                    INSTANCE_CORE_PRICES['c2']=price\n",
    "                ram_match = re.search(\"Ram\",response.description)\n",
    "                if ram_match is not None:\n",
    "                    price = normalize_price(response)\n",
    "                    INSTANCE_RAM_PRICES['c2']=price\n",
    "        CACHED_PRICES=True\n",
    "        \n",
    "        #Adding 'Unspecified' type for CPU-only jobs\n",
    "        GPU_PRICES['ACCELERATOR_TYPE_UNSPECIFIED']=0\n",
    "    \n",
    "    # Calculate prices\n",
    "    machine_specs = get_machine_specs(machine_shape)\n",
    "    # if CACHED_PRICES:\n",
    "    #     print(machine_specs)\n",
    "    \n",
    "#     print(f'instance_core_prices{instance_core_prices}')\n",
    "#     print(f'instance_ram_prices{instance_ram_prices}')\n",
    "\n",
    "    #Total should be per-hour core charge + per-hour RAM GiB charge + GPU hourly charge\n",
    "    if machine_specs['class']=='n1':\n",
    "        return (machine_specs['cores'] * INSTANCE_CORE_PRICES['n1']) + (machine_specs['ram'] * INSTANCE_RAM_PRICES['n1']) + (GPU_PRICES[gpu_type] * gpu_count)\n",
    "    \n",
    "    if machine_specs['class']=='a2':\n",
    "        return (machine_specs['cores'] * INSTANCE_CORE_PRICES['a2']) + (machine_specs['ram'] * INSTANCE_RAM_PRICES['a2']) + (GPU_PRICES[gpu_type] * gpu_count)\n",
    "    \n",
    "    if machine_specs['class']=='e2':\n",
    "        return (machine_specs['cores'] * INSTANCE_CORE_PRICES['e2']) + (machine_specs['ram'] * INSTANCE_RAM_PRICES['e2']) + (GPU_PRICES[gpu_type] * gpu_count)\n",
    "    \n",
    "    if machine_specs['class']=='c2':\n",
    "        return (machine_specs['cores'] * INSTANCE_CORE_PRICES['c2']) + (machine_specs['ram'] * INSTANCE_RAM_PRICES['c2']) + (GPU_PRICES[gpu_type] * gpu_count)\n",
    "    "
   ]
  },
  {
   "cell_type": "code",
   "execution_count": 100,
   "metadata": {},
   "outputs": [
    {
     "data": {
      "text/plain": [
       "0.4802584"
      ]
     },
     "execution_count": 100,
     "metadata": {},
     "output_type": "execute_result"
    }
   ],
   "source": [
    "#get_hourly_price('n1-standard-4','NVIDIA_TESLA_T4',1)\n",
    "#get_hourly_price('e2-standard-4')\n",
    "get_hourly_price('c2-standard-8')"
   ]
  },
  {
   "cell_type": "markdown",
   "metadata": {},
   "source": [
    "### Calculating costs for training and HPT jobs"
   ]
  },
  {
   "cell_type": "code",
   "execution_count": 237,
   "metadata": {},
   "outputs": [],
   "source": [
    "from google.cloud import aiplatform\n",
    "\n",
    "from datetime import datetime, timedelta\n",
    "\n",
    "import pandas as pd\n",
    "\n",
    "def get_gpu_utilization(project_id, job_id, start_time, end_time,trial_id):\n",
    "    from google.cloud import monitoring_v3\n",
    "\n",
    "    client = monitoring_v3.MetricServiceClient()\n",
    "    project_name = f\"projects/{project_id}\"\n",
    "    \n",
    "    interval = monitoring_v3.TimeInterval(\n",
    "        {\n",
    "            \"end_time\": end_time,\n",
    "            #\"end_time\": {\"seconds\": end_time},\n",
    "            \"start_time\": start_time,\n",
    "            #\"start_time\": {\"seconds\": start_time},\n",
    "\n",
    "        }\n",
    "    )\n",
    "    \n",
    "    aggregation = monitoring_v3.Aggregation(\n",
    "        {\n",
    "            \"alignment_period\": {\"seconds\": 3600 * 24},  # 24 hours\n",
    "            \"per_series_aligner\": monitoring_v3.Aggregation.Aligner.ALIGN_MEAN,\n",
    "            \"cross_series_reducer\": monitoring_v3.Aggregation.Reducer.REDUCE_NONE,\n",
    "        }\n",
    "    )\n",
    "        \n",
    "    filter = f'metric.type = \"ml.googleapis.com/training/accelerator/utilization\" AND resource.type=\"cloudml_job\" AND resource.labels.job_id =\"{job_id}\"'\n",
    "    \n",
    "    if trial_id:\n",
    "        filter += f' AND metric.labels.trial_id = \"{trial_id}\"'\n",
    "\n",
    "    results = client.list_time_series(\n",
    "        request={\n",
    "            \"name\": project_name,\n",
    "            \"filter\": filter,\n",
    "            \"interval\": interval,\n",
    "            \"view\": monitoring_v3.ListTimeSeriesRequest.TimeSeriesView.FULL,\n",
    "            \"aggregation\": aggregation,\n",
    "        }\n",
    "    )\n",
    "    \n",
    "    gpu_utilization = -1\n",
    "    for result in results:\n",
    "        #print(f\"utilization: {result.points[0].value.double_value}\")\n",
    "        gpu_utilization = result.points[0].value.double_value\n",
    "        break\n",
    "    return gpu_utilization\n",
    "\n",
    "def get_job_details(\n",
    "    project: str,\n",
    "    custom_job: str,\n",
    "    location: str = \"us-central1\",\n",
    "    api_endpoint: str = \"us-central1-aiplatform.googleapis.com\",\n",
    "):\n",
    "    # The AI Platform services require regional API endpoints.\n",
    "    client_options = {\"api_endpoint\": api_endpoint}\n",
    "    # Initialize client that will be used to create and send requests.\n",
    "    # This client only needs to be created once, and can be reused for multiple requests.\n",
    "    client = aiplatform.gapic.JobServiceClient(client_options=client_options)\n",
    "    name = client.custom_job_path(\n",
    "        project=project, location=location, custom_job=custom_job\n",
    "    )\n",
    "    response = client.get_custom_job(name=name)\n",
    "    machine_spec = response.job_spec.worker_pool_specs[0].machine_spec\n",
    "    #print(machine_spec)\n",
    "    #print(response)\n",
    "    #print(f'response state is: {response.state.name}')\n",
    "\n",
    "    gpu_utilization = get_gpu_utilization(project, custom_job, response.start_time, response.end_time)\n",
    "    job_duration = (response.end_time - response.start_time)/timedelta(hours=1)\n",
    "    \n",
    "    job_cost = get_hourly_price(machine_spec.machine_type, machine_spec.accelerator_type.name,machine_spec.accelerator_count) * job_duration\n",
    "    \n",
    "    return {'machine_type': machine_spec.machine_type, \n",
    "            'accelerator_type':machine_spec.accelerator_type.name,\n",
    "            'accelerator_count':machine_spec.accelerator_count,\n",
    "            'gpu_utilization':gpu_utilization,\n",
    "            'job_duration_hours': job_duration,\n",
    "            'job_cost': job_cost}\n",
    "\n",
    "\n",
    "def get_hpt_job_details(\n",
    "    project: str,\n",
    "    hyperparameter_tuning_job: str,\n",
    "    location: str = \"us-central1\",\n",
    "    api_endpoint: str = \"us-central1-aiplatform.googleapis.com\",\n",
    "):\n",
    "    # The AI Platform services require regional API endpoints.\n",
    "    client_options = {\"api_endpoint\": api_endpoint}\n",
    "    # Initialize client that will be used to create and send requests.\n",
    "    # This client only needs to be created once, and can be reused for multiple requests.\n",
    "    client = aiplatform.gapic.JobServiceClient(client_options=client_options)\n",
    "    name = client.hyperparameter_tuning_job_path(\n",
    "        project=project, location=location, hyperparameter_tuning_job=hyperparameter_tuning_job\n",
    "    )\n",
    "    response = client.get_hyperparameter_tuning_job(name=name)\n",
    "    #print(response)\n",
    "    machine_spec = response.trial_job_spec.worker_pool_specs[0].machine_spec\n",
    "    \n",
    "    \n",
    "    \n",
    "    total_trials = len(response.trials)\n",
    "    total_job_duration = 0\n",
    "    total_job_cost = 0\n",
    "    agg_gpu_utilization = 0\n",
    "    trial_dict = {\"trial_id\":[],\"job_duration\":[],\"job_cost\":[],\"gpu_utilization\":[]}\n",
    "    \n",
    "    hpt_trial_start_time = hpt_trial_end_time = 0\n",
    "    \n",
    "    for trial in response.trials:\n",
    "        if trial.id == '1':\n",
    "            hpt_trial_start_time = trial.start_time\n",
    "            \n",
    "        if trial.end_time:\n",
    "            job_duration = (trial.end_time - trial.start_time)/timedelta(hours=1)\n",
    "            job_cost = get_hourly_price(machine_spec.machine_type, machine_spec.accelerator_type.name,machine_spec.accelerator_count) * job_duration\n",
    "            \n",
    "            gpu_utilization = get_gpu_utilization(project, hyperparameter_tuning_job,trial.start_time, trial.end_time, trial.id)\n",
    "            \n",
    "            trial_dict['trial_id'].append(trial.id)\n",
    "            trial_dict['job_duration'].append(job_duration)\n",
    "            trial_dict['job_cost'].append(job_cost)\n",
    "            trial_dict['gpu_utilization'].append(gpu_utilization)\n",
    "            \n",
    "            total_job_duration+=job_duration\n",
    "            total_job_cost += job_cost\n",
    "            agg_gpu_utilization+=gpu_utilization\n",
    "            \n",
    "            #Lazily setting last trial's end time to hpt end time\n",
    "            hpt_trial_end_time = trial.end_time\n",
    "\n",
    "    # GPU Utilization for HPT Trials is provided at the HPT job level, not the trial level\n",
    "    # Grab all GPU utilization over that period of time\n",
    "    # Put it in a dict that can be looked up by trial ID below\n",
    "    \n",
    "    \n",
    "    trial_df = pd.DataFrame.from_dict(trial_dict)\n",
    "    #trial_df.set_index('trial_id')\n",
    "    \n",
    "    # plt = trial_df.plot(y='job_cost',figsize=(20,6))\n",
    "    # plt.set_xlabel('trial #')\n",
    "    # plt.set_ylabel('trial cost ($)')\n",
    "    \n",
    "    return {'machine_type': machine_spec.machine_type, \n",
    "            'accelerator_type':machine_spec.accelerator_type.name,\n",
    "            'accelerator_count':machine_spec.accelerator_count,\n",
    "            'avg_gpu_utilization':agg_gpu_utilization/total_trials,\n",
    "            'hpt_job_cumulative_duration_hours': total_job_duration,\n",
    "            'hpt_total_trials': total_trials,\n",
    "            'hpt_trials_per_training_hour' : total_trials/total_job_duration,\n",
    "            'job_cost': total_job_cost,\n",
    "            'job_cost_per_trial_hour':total_job_cost/total_job_duration,\n",
    "            'job_cost_per_trial':total_job_cost/total_trials,\n",
    "            'trial_details':trial_df\n",
    "           }\n",
    "\n"
   ]
  },
  {
   "cell_type": "code",
   "execution_count": 238,
   "metadata": {},
   "outputs": [
    {
     "data": {
      "text/plain": [
       "{'machine_type': 'n1-highmem-8',\n",
       " 'accelerator_type': 'NVIDIA_TESLA_T4',\n",
       " 'accelerator_count': 2,\n",
       " 'avg_gpu_utilization': 0.2506714346276643,\n",
       " 'hpt_job_cumulative_duration_hours': 598.7388977747223,\n",
       " 'hpt_total_trials': 104,\n",
       " 'hpt_trials_per_training_hour': 0.17369841910476705,\n",
       " 'job_cost': 807.8148086964889,\n",
       " 'job_cost_per_trial_hour': 1.3491937999999994,\n",
       " 'job_cost_per_trial': 7.767450083620085,\n",
       " 'trial_details':     trial_id  job_duration   job_cost  gpu_utilization\n",
       " 0          1     18.762829  25.314692         0.227654\n",
       " 1          2     21.933106  29.592011         0.210682\n",
       " 2          3      5.112273   6.897447         0.282492\n",
       " 3          4     32.299495  43.578279         0.132632\n",
       " 4          5     23.175328  31.268009         0.189830\n",
       " ..       ...           ...        ...              ...\n",
       " 98       100      4.537244   6.121622         0.276474\n",
       " 99       101      5.650149   7.623146         0.310090\n",
       " 100      102      4.065387   5.484995         0.219438\n",
       " 101      103      5.411556   7.301237         0.604844\n",
       " 102      104      0.284284   0.383555         0.000000\n",
       " \n",
       " [103 rows x 4 columns]}"
      ]
     },
     "execution_count": 238,
     "metadata": {},
     "output_type": "execute_result"
    }
   ],
   "source": [
    "get_hpt_job_details(PROJECT_ID,'6942514604748570624')"
   ]
  },
  {
   "cell_type": "code",
   "execution_count": 236,
   "metadata": {},
   "outputs": [
    {
     "name": "stdout",
     "output_type": "stream",
     "text": [
      "Results for job id: 7085503892917583872, machine-type: a2-highgpu-1g, accel: NVIDIA_TESLA_A100, accel_count: 1\n",
      "\n",
      "machine_type: a2-highgpu-1g\n",
      "accelerator_type: NVIDIA_TESLA_A100\n",
      "accelerator_count: 1\n",
      "avg_gpu_utilization: 0.26297279303615967\n",
      "hpt_job_cumulative_duration_hours: 491.42305038666666\n",
      "hpt_total_trials: 104\n",
      "hpt_trials_per_training_hour: 0.2116302845749088\n",
      "job_cost: 2044.8356872422191\n",
      "job_cost_per_trial_hour: 4.1610496\n",
      "job_cost_per_trial: 19.661881608098263\n",
      "\n",
      "Descriptive stats\n",
      "       job_duration    job_cost\n",
      "count    104.000000  104.000000\n",
      "mean       4.725222   19.661882\n",
      "std        0.568222    2.364400\n",
      "min        2.664327   11.086399\n",
      "25%        4.501189   18.729672\n",
      "50%        4.703229   19.570370\n",
      "75%        4.957938   20.630227\n",
      "max        6.971877   29.010327\n",
      "\n",
      "\n",
      "\n",
      "Results for job id: 6942514604748570624, machine-type: n1-highmem-8, accel: NVIDIA_TESLA_T4, accel_count: 2\n",
      "\n",
      "machine_type: n1-highmem-8\n",
      "accelerator_type: NVIDIA_TESLA_T4\n",
      "accelerator_count: 2\n",
      "avg_gpu_utilization: 0.2506714346276643\n",
      "hpt_job_cumulative_duration_hours: 598.7388977747223\n",
      "hpt_total_trials: 104\n",
      "hpt_trials_per_training_hour: 0.17369841910476705\n",
      "job_cost: 807.8148086964889\n",
      "job_cost_per_trial_hour: 1.3491937999999994\n",
      "job_cost_per_trial: 7.767450083620085\n",
      "\n",
      "Descriptive stats\n",
      "       job_duration    job_cost\n",
      "count    103.000000  103.000000\n",
      "mean       5.812999    7.842862\n",
      "std        5.095706    6.875094\n",
      "min        0.284284    0.383555\n",
      "25%        4.148738    5.597451\n",
      "50%        4.510464    6.085490\n",
      "75%        4.811847    6.492115\n",
      "max       32.299495   43.578279\n",
      "\n",
      "\n",
      "\n",
      "Results for job id: 3626739379097042944, machine-type: n1-highmem-8, accel: NVIDIA_TESLA_T4, accel_count: 1\n",
      "\n",
      "machine_type: n1-highmem-8\n",
      "accelerator_type: NVIDIA_TESLA_T4\n",
      "accelerator_count: 1\n",
      "avg_gpu_utilization: 0.23172683911748815\n",
      "hpt_job_cumulative_duration_hours: 885.5089240444445\n",
      "hpt_total_trials: 99\n",
      "hpt_trials_per_training_hour: 0.11180011551756096\n",
      "job_cost: 838.3058082375469\n",
      "job_cost_per_trial_hour: 0.9466938000000005\n",
      "job_cost_per_trial: 8.467735436742897\n",
      "\n",
      "Descriptive stats\n",
      "       job_duration   job_cost\n",
      "count     91.000000  91.000000\n",
      "mean       9.730867   9.212152\n",
      "std        2.614873   2.475484\n",
      "min        3.085263   2.920799\n",
      "25%        9.482594   8.977113\n",
      "50%       10.183299   9.640466\n",
      "75%       10.973859  10.388884\n",
      "max       15.329002  14.511871\n",
      "\n",
      "\n",
      "\n"
     ]
    },
    {
     "data": {
      "text/plain": [
       "Text(0, 0.5, 'trial cost ($)')"
      ]
     },
     "execution_count": 236,
     "metadata": {},
     "output_type": "execute_result"
    },
    {
     "data": {
      "image/png": "[encoded data removed]",
      "text/plain": [
       "<Figure size 1440x432 with 1 Axes>"
      ]
     },
     "metadata": {
      "needs_background": "light"
     },
     "output_type": "display_data"
    },
    {
     "data": {
      "image/png": "[encoded data removed]",
      "text/plain": [
       "<Figure size 432x288 with 1 Axes>"
      ]
     },
     "metadata": {
      "needs_background": "light"
     },
     "output_type": "display_data"
    },
    {
     "data": {
      "image/png": "[encoded data removed]",
      "text/plain": [
       "<Figure size 1440x432 with 1 Axes>"
      ]
     },
     "metadata": {
      "needs_background": "light"
     },
     "output_type": "display_data"
    },
    {
     "data": {
      "image/png": "[encoded data removed]",
      "text/plain": [
       "<Figure size 432x288 with 1 Axes>"
      ]
     },
     "metadata": {
      "needs_background": "light"
     },
     "output_type": "display_data"
    },
    {
     "data": {
      "image/png": "[encoded data removed]",
      "text/plain": [
       "<Figure size 1440x432 with 1 Axes>"
      ]
     },
     "metadata": {
      "needs_background": "light"
     },
     "output_type": "display_data"
    },
    {
     "data": {
      "image/png": "[encoded data removed]",
      "text/plain": [
       "<Figure size 432x288 with 1 Axes>"
      ]
     },
     "metadata": {
      "needs_background": "light"
     },
     "output_type": "display_data"
    },
    {
     "data": {
      "image/png": "[encoded data removed]",
      "text/plain": [
       "<Figure size 1440x432 with 1 Axes>"
      ]
     },
     "metadata": {
      "needs_background": "light"
     },
     "output_type": "display_data"
    }
   ],
   "source": [
    "#Compare and graph 3 jobs\n",
    "# Avg trial duration\n",
    "# Descriptive stats of trial\n",
    "# Avg trial cost\n",
    "\n",
    "import json\n",
    "\n",
    "results = {}\n",
    "#jobs = ['9215224105937141760','8692138046092476416','5067021821035937792']\n",
    "#jobs = ['4584978331232894976','846498059306139648','2076754813764239360']\n",
    "\n",
    "#jobs = ['846498059306139648','2076754813764239360']\n",
    "\n",
    "jobs = ['7085503892917583872','6942514604748570624','3626739379097042944']\n",
    "\n",
    "#jobs = ['7085503892917583872']\n",
    "\n",
    "\n",
    "\n",
    "for job in jobs:\n",
    "    results[job] = get_hpt_job_details(PROJECT_ID,job)\n",
    "    print(f\"Results for job id: {job}, machine-type: {results[job]['machine_type']}, accel: {results[job]['accelerator_type']}, accel_count: {results[job]['accelerator_count']}\\n\")\n",
    "    for key, val in results[job].items():\n",
    "        if key != 'trial_details':\n",
    "            print(f\"{key}: {val}\")\n",
    "    print(\"\\nDescriptive stats\")\n",
    "    print(results[job]['trial_details'].describe())\n",
    "    print('\\n\\n')\n",
    "    df = results[job]['trial_details']\n",
    "    title=f\"{results[job]['machine_type']}_{results[job]['accelerator_type']}x{results[job]['accelerator_count']}\"\n",
    "    axs = df.plot(y='job_cost',figsize=(20,6),title=title)\n",
    "    axs.set_xlabel('trial #')\n",
    "    axs.set_ylabel('trial cost ($)')\n",
    "    df.hist(column='job_cost',bins=8)\n",
    "    \n",
    "dfs = [results[job]['trial_details'] for job in jobs]\n",
    "concat_dfs = pd.concat(dfs, keys=jobs)\n",
    "p = concat_dfs.unstack(level=0).plot(y='job_cost',figsize=(20,6),title='Job Cost w/ different-machine-shapes, accels')\n",
    "p.set_xlabel('trial #')\n",
    "p.set_ylabel('trial cost ($)')\n"
   ]
  },
  {
   "cell_type": "code",
   "execution_count": null,
   "metadata": {},
   "outputs": [],
   "source": []
  },
  {
   "cell_type": "code",
   "execution_count": null,
   "metadata": {},
   "outputs": [],
   "source": []
  },
  {
   "cell_type": "code",
   "execution_count": 132,
   "metadata": {},
   "outputs": [
    {
     "data": {
      "text/plain": [
       "{'machine_type': 'n1-highmem-8',\n",
       " 'accelerator_type': 'NVIDIA_TESLA_T4',\n",
       " 'accelerator_count': 2,\n",
       " 'gpu_utilization': -1,\n",
       " 'hpt_job_cumulative_duration_hours': 230.29125327083327,\n",
       " 'hpt_total_trials': 147,\n",
       " 'hpt_trials_per_training_hour': 0.6383221156346791,\n",
       " 'job_cost': 310.70753110723814,\n",
       " 'job_cost_per_trial_hour': 1.3491938000000008,\n",
       " 'job_cost_per_trial': 2.1136566741988987,\n",
       " 'trial_details':     trial_id  job_duration  job_cost\n",
       " 0          1      2.427076  3.274596\n",
       " 1          2      1.607354  2.168632\n",
       " 2          3      2.136243  2.882206\n",
       " 3          4      0.997362  1.345635\n",
       " 4          5      1.702267  2.296688\n",
       " ..       ...           ...       ...\n",
       " 139      140      1.634592  2.205382\n",
       " 140      141      1.489641  2.009814\n",
       " 141      142      1.593405  2.149812\n",
       " 142      143      1.585962  2.139770\n",
       " 143      144      1.675730  2.260884\n",
       " \n",
       " [144 rows x 3 columns]}"
      ]
     },
     "execution_count": 132,
     "metadata": {},
     "output_type": "execute_result"
    },
    {
     "data": {
      "image/png": "[encoded data removed]",
      "text/plain": [
       "<Figure size 1440x432 with 1 Axes>"
      ]
     },
     "metadata": {
      "needs_background": "light"
     },
     "output_type": "display_data"
    }
   ],
   "source": [
    "# Current job with 2 T4s\n",
    "get_hpt_job_details(PROJECT_ID,'9215224105937141760')"
   ]
  },
  {
   "cell_type": "code",
   "execution_count": 60,
   "metadata": {},
   "outputs": [
    {
     "data": {
      "text/plain": [
       "{'machine_type': 'n1-highmem-8',\n",
       " 'accelerator_type': 'NVIDIA_TESLA_T4',\n",
       " 'accelerator_count': 2,\n",
       " 'gpu_utilization': -1,\n",
       " 'hpt_job_cumulative_duration_hours': 151.3344222955555,\n",
       " 'hpt_total_trials': 97,\n",
       " 'hpt_trials_per_training_hour': 0.6409645507521046,\n",
       " 'job_cost': 204.1794642877454,\n",
       " 'job_cost_per_trial_hour': 1.349193800000001,\n",
       " 'job_cost_per_trial': 2.104942930801499}"
      ]
     },
     "execution_count": 60,
     "metadata": {},
     "output_type": "execute_result"
    }
   ],
   "source": [
    "# Current job with 2 T4s\n",
    "get_hpt_job_details(PROJECT_ID,'9215224105937141760')"
   ]
  },
  {
   "cell_type": "code",
   "execution_count": 133,
   "metadata": {},
   "outputs": [
    {
     "data": {
      "text/plain": [
       "{'machine_type': 'a2-highgpu-2g',\n",
       " 'accelerator_type': 'NVIDIA_TESLA_A100',\n",
       " 'accelerator_count': 2,\n",
       " 'gpu_utilization': -1,\n",
       " 'hpt_job_cumulative_duration_hours': 156.9920183608333,\n",
       " 'hpt_total_trials': 134,\n",
       " 'hpt_trials_per_training_hour': 0.8535465777120718,\n",
       " 'job_cost': 1306.5031504070764,\n",
       " 'job_cost_per_trial_hour': 8.322099200000002,\n",
       " 'job_cost_per_trial': 9.75002351050057,\n",
       " 'trial_details':     trial_id  job_duration   job_cost\n",
       " 0          1      1.389558  11.564037\n",
       " 1          2      1.464835  12.190506\n",
       " 2          3      1.377058  11.460010\n",
       " 3          4      1.595242  13.275761\n",
       " 4          5      0.831401   6.918999\n",
       " ..       ...           ...        ...\n",
       " 126      127      1.134006   9.437309\n",
       " 127      128      1.064309   8.857281\n",
       " 128      129      1.626749  13.537966\n",
       " 129      130      1.143395   9.515445\n",
       " 130      131      1.078999   8.979535\n",
       " \n",
       " [131 rows x 3 columns]}"
      ]
     },
     "execution_count": 133,
     "metadata": {},
     "output_type": "execute_result"
    },
    {
     "data": {
      "image/png": "[encoded data removed]",
      "text/plain": [
       "<Figure size 1440x432 with 1 Axes>"
      ]
     },
     "metadata": {
      "needs_background": "light"
     },
     "output_type": "display_data"
    }
   ],
   "source": [
    "#Same job with 2 A100s\n",
    "get_hpt_job_details(PROJECT_ID,'8692138046092476416')"
   ]
  },
  {
   "cell_type": "code",
   "execution_count": 61,
   "metadata": {},
   "outputs": [
    {
     "data": {
      "text/plain": [
       "{'machine_type': 'a2-highgpu-2g',\n",
       " 'accelerator_type': 'NVIDIA_TESLA_A100',\n",
       " 'accelerator_count': 2,\n",
       " 'gpu_utilization': -1,\n",
       " 'hpt_job_cumulative_duration_hours': 80.2367063572222,\n",
       " 'hpt_total_trials': 69,\n",
       " 'hpt_trials_per_training_hour': 0.8599555382147017,\n",
       " 'job_cost': 667.7378297860739,\n",
       " 'job_cost_per_trial_hour': 8.322099200000002,\n",
       " 'job_cost_per_trial': 9.677359851972085}"
      ]
     },
     "execution_count": 61,
     "metadata": {},
     "output_type": "execute_result"
    }
   ],
   "source": [
    "#Same job with 2 A100s\n",
    "get_hpt_job_details(PROJECT_ID,'8692138046092476416')"
   ]
  },
  {
   "cell_type": "code",
   "execution_count": 134,
   "metadata": {},
   "outputs": [
    {
     "data": {
      "text/plain": [
       "{'machine_type': 'n1-highmem-8',\n",
       " 'accelerator_type': 'ACCELERATOR_TYPE_UNSPECIFIED',\n",
       " 'accelerator_count': 0,\n",
       " 'gpu_utilization': -1,\n",
       " 'hpt_job_cumulative_duration_hours': 193.1971740922222,\n",
       " 'hpt_total_trials': 51,\n",
       " 'hpt_trials_per_training_hour': 0.2639790164614689,\n",
       " 'job_cost': 105.13670431850794,\n",
       " 'job_cost_per_trial_hour': 0.5441938,\n",
       " 'job_cost_per_trial': 2.061504006245254,\n",
       " 'trial_details':    trial_id  job_duration  job_cost\n",
       " 0         1     10.889935  5.926235\n",
       " 1         2      3.184657  1.733071\n",
       " 2         3      9.914380  5.395344\n",
       " 3         4      0.957076  0.520835\n",
       " 4         5      2.079819  1.131825\n",
       " 5         6      0.531314  0.289138\n",
       " 6         7      0.520846  0.283441\n",
       " 7         8      4.213638  2.293036\n",
       " 8         9      3.878251  2.110520\n",
       " 9        10      3.158813  1.719006\n",
       " 10       11      2.724412  1.482608\n",
       " 11       12      3.586950  1.951996\n",
       " 12       13      2.018513  1.098462\n",
       " 13       14      8.385585  4.563384\n",
       " 14       15      3.123817  1.699962\n",
       " 15       16      4.511637  2.455205\n",
       " 16       17      3.624986  1.972695\n",
       " 17       18      1.449138  0.788612\n",
       " 18       19      4.046924  2.202311\n",
       " 19       20      1.132407  0.616249\n",
       " 20       21      6.488129  3.530800\n",
       " 21       22      1.392017  0.757527\n",
       " 22       23      2.312462  1.258427\n",
       " 23       24      1.854291  1.009094\n",
       " 24       25      0.348316  0.189551\n",
       " 25       26      5.090534  2.770237\n",
       " 26       27      4.034157  2.195363\n",
       " 27       28      3.929786  2.138565\n",
       " 28       29      6.494386  3.534205\n",
       " 29       30      4.051006  2.204532\n",
       " 30       31      5.893307  3.207101\n",
       " 31       32      2.764694  1.504529\n",
       " 32       33     11.728304  6.382470\n",
       " 33       34      7.535585  4.100819\n",
       " 34       35      2.154518  1.172475\n",
       " 35       36      5.417196  2.948004\n",
       " 36       37      6.573047  3.577011\n",
       " 37       38      6.409878  3.488216\n",
       " 38       39      3.726919  2.028166\n",
       " 39       40      4.162001  2.264935\n",
       " 40       41      6.420136  3.493798\n",
       " 41       42      3.480999  1.894338\n",
       " 42       43      1.894022  1.030715\n",
       " 43       44      3.942332  2.145393\n",
       " 44       45      3.785461  2.060024\n",
       " 45       46      2.978879  1.621087\n",
       " 46       48      3.677708  2.001386\n",
       " 47       50      0.724004  0.393999}"
      ]
     },
     "execution_count": 134,
     "metadata": {},
     "output_type": "execute_result"
    },
    {
     "data": {
      "image/png": "[encoded data removed]",
      "text/plain": [
       "<Figure size 1440x432 with 1 Axes>"
      ]
     },
     "metadata": {
      "needs_background": "light"
     },
     "output_type": "display_data"
    }
   ],
   "source": [
    "get_hpt_job_details(PROJECT_ID,'5067021821035937792')"
   ]
  },
  {
   "cell_type": "code",
   "execution_count": 358,
   "metadata": {},
   "outputs": [],
   "source": [
    "#Create and upload the python package\n",
    "# Location of python package:\n",
    "PYTHON_PACKAGE_URI='gs://gcp-machine-learning-sandbox-aip-20220516215311/aiplatform-2022-05-16-21:54:23.828-aiplatform_custom_trainer_script-0.1.tar.gz'"
   ]
  },
  {
   "cell_type": "code",
   "execution_count": null,
   "metadata": {},
   "outputs": [],
   "source": []
  },
  {
   "cell_type": "markdown",
   "metadata": {},
   "source": [
    "### Define the metric evaluation function"
   ]
  },
  {
   "cell_type": "code",
   "execution_count": 106,
   "metadata": {},
   "outputs": [
    {
     "name": "stdout",
     "output_type": "stream",
     "text": [
      "Training: gcr.io/tabnet-309522/tab_net_v2@sha256:9a3547b99efce4a7c510f9eb9dd246524de1978a016e2c42534855a770adf4c1\n"
     ]
    }
   ],
   "source": [
    "#TRAIN_GPU, TRAIN_NGPU = (aip.AcceleratorType.NVIDIA_TESLA_V100, 2) \n",
    "\n",
    "#DEPLOY_GPU, DEPLOY_NGPU = (aip.AcceleratorType.NVIDIA_TESLA_K80, 1)\n",
    "from datetime import datetime, timedelta\n",
    "\n",
    "from google.cloud import aiplatform_v1\n",
    "\n",
    "from time import sleep\n",
    "\n",
    "\n",
    "TRAIN_VERSION = \"tf-gpu.2-6\"\n",
    "#TRAIN_IMAGE = \"us-central1-docker.pkg.dev/gcp-machine-learning-sandbox/docker-repo/tab_net_v2:gpu_v1112\"\n",
    "TRAIN_IMAGE = \"gcr.io/tabnet-309522/tab_net_v2@sha256:9a3547b99efce4a7c510f9eb9dd246524de1978a016e2c42534855a770adf4c1\"\n",
    "print(\"Training:\", TRAIN_IMAGE)\n",
    "\n",
    "def RunCustomJob(trial_id, machine_type, accelerator_type, accelerator_count):\n",
    "    \n",
    "    TIMESTAMP = datetime.now().strftime(\"%Y%m%d%H%M%S\")\n",
    "    \n",
    "    print((\"=========== Start Trial: [{}] =============\").format(trial_id))\n",
    "        \n",
    "    # # Setup python package\n",
    "    # python_package_spec = aiplatform_v1.PythonPackageSpec()\n",
    "    # python_package_spec.executor_image_uri=TRAIN_IMAGE\n",
    "    # python_package_spec.package_uris=[PYTHON_PACKAGE_URI]\n",
    "    # python_package_spec.python_module='aiplatform_custom_trainer_script.task'\n",
    "    # python_package_spec.args=[\"--epochs=100\",\"--batch_size=128\",\"--distribute=mirror\"]\n",
    "    \n",
    "    # Container spec for TabNet_v2\n",
    "    container_spec = aiplatform_v1.ContainerSpec()\n",
    "    container_spec.image_uri=TRAIN_IMAGE\n",
    "    container_spec.args=[\n",
    "          \"--preprocess\",\n",
    "          \"--prediction_raw_inputs\",\n",
    "          \"--exclude_key\",\n",
    "          \"--data_has_header\",\n",
    "          \"--training_data_path=gs://gcp-machine-learning-sandbox-aip-20220518215815/data/petfinder/train.csv\",\n",
    "          \"--job-dir=gs://gcp-machine-learning-sandbox-aip-20220518215815/petfinder_tabnet_classification_\" + TIMESTAMP,\n",
    "          \"--model_type=classification\",\n",
    "          \"--max_steps=2000\",\n",
    "          \"--batch_size=4096\",\n",
    "          \"--learning_rate=0.01\"\n",
    "        ]\n",
    "    \n",
    "    #Machine Spec\n",
    "    machine_spec = aiplatform_v1.MachineSpec()\n",
    "    machine_spec.machine_type=machine_type\n",
    "    machine_spec.accelerator_type=accelerator_type\n",
    "    machine_spec.accelerator_count=accelerator_count\n",
    "    \n",
    "    #WorkerPoolSpec\n",
    "    worker_pool_spec=aiplatform_v1.WorkerPoolSpec()\n",
    "    worker_pool_spec.replica_count = 1\n",
    "    worker_pool_spec.machine_spec = machine_spec\n",
    "    #worker_pool_spec.python_package_spec = python_package_spec\n",
    "    worker_pool_spec.container_spec = container_spec\n",
    "    \n",
    "    #Custom Job \n",
    "    \n",
    "    custom_job = aiplatform_v1.CustomJob()\n",
    "    custom_job.display_name=f'Cost_optimize_trial_{trial_id}_{machine_type}_{accelerator_type}_x_{accelerator_count}'\n",
    "    custom_job.job_spec.base_output_directory.output_uri_prefix=f\"gs://gcp-machine-learning-sandbox-aip-20220516215311/aiplatform-custom-training-rjv-{trial_id}\"\n",
    "    custom_job.job_spec.worker_pool_specs = [worker_pool_spec]\n",
    "\n",
    "    client = aiplatform_v1.JobServiceClient(client_options=dict(api_endpoint=ENDPOINT))\n",
    "\n",
    "    # Initialize request argument(s)\n",
    "    request = aiplatform_v1.CreateCustomJobRequest(\n",
    "        parent=f'projects/{PROJECT_ID}/locations/{LOCATION}',\n",
    "        custom_job=custom_job,\n",
    "    )\n",
    "\n",
    "    # Make the request\n",
    "    response = client.create_custom_job(request=request)\n",
    "    \n",
    "    # for use downstream\n",
    "    job_details = client.parse_custom_job_path(response.name)\n",
    "    \n",
    "    \n",
    "    #Vertex Job States\n",
    "    # JOB_STATE_UNSPECIFIED\tThe job state is unspecified.\n",
    "    # JOB_STATE_QUEUED\tThe job has been just created or resumed and processing has not yet begun.\n",
    "    # JOB_STATE_PENDING\tThe service is preparing to run the job.\n",
    "    # JOB_STATE_RUNNING\tThe job is in progress.\n",
    "    # JOB_STATE_SUCCEEDED\tThe job completed successfully.\n",
    "    # JOB_STATE_FAILED\tThe job failed.\n",
    "    # JOB_STATE_CANCELLING\tThe job is being cancelled. From this state the job may only go to either JOB_STATE_SUCCEEDED, JOB_STATE_FAILED or JOB_STATE_CANCELLED.\n",
    "    # JOB_STATE_CANCELLED\tThe job has been cancelled.\n",
    "    # JOB_STATE_PAUSED\tThe job has been stopped, and can be resumed.\n",
    "    # JOB_STATE_EXPIRED\n",
    "    \n",
    "    while response.state.name not in ('JOB_STATE_SUCCEEDED', 'JOB_STATE_FAILED','JOB_STATE_CANCELLED'):\n",
    "        sleep(30)\n",
    "        response = client.get_custom_job(name=response.name)\n",
    "    \n",
    "    #\n",
    "    gpu_utilization = get_gpu_utilization(job_details['project'], job_details['custom_job'], response.start_time, response.end_time)\n",
    "    job_duration = (response.end_time - response.start_time)/timedelta(hours=1)\n",
    "    job_cost = get_hourly_price(machine_type, accelerator_type,accelerator_count) * job_duration\n",
    "    \n",
    "    return [{\"metric_id\": \"training_time\",\"value\":job_duration},{\"metric_id\": \"estimated_training_cost\",\"value\":job_cost},{\"metric_id\": \"average_gpu_utilization\",\"value\":gpu_utilization}]\n",
    "            \n"
   ]
  },
  {
   "cell_type": "code",
   "execution_count": 206,
   "metadata": {},
   "outputs": [
    {
     "data": {
      "text/plain": [
       "['eats_home_feed_ranking_20220525_192935']"
      ]
     },
     "execution_count": 206,
     "metadata": {},
     "output_type": "execute_result"
    }
   ],
   "source": [
    "NOTES = \"TEST_A100_HYPERPREDICT\"\n",
    "JOB_ID = !echo eats_home_feed_ranking_${NOTES}_$(date '+%Y%m%d_%H%M%S')\n",
    "JOB_ID"
   ]
  },
  {
   "cell_type": "code",
   "execution_count": 113,
   "metadata": {},
   "outputs": [],
   "source": [
    "LOCATION='us-central1'"
   ]
  },
  {
   "cell_type": "code",
   "execution_count": null,
   "metadata": {},
   "outputs": [],
   "source": [
    "#ATO RISK V1"
   ]
  },
  {
   "cell_type": "code",
   "execution_count": 114,
   "metadata": {},
   "outputs": [
    {
     "data": {
      "text/plain": [
       "'us-central1'"
      ]
     },
     "execution_count": 114,
     "metadata": {},
     "output_type": "execute_result"
    }
   ],
   "source": [
    "LOCATION"
   ]
  },
  {
   "cell_type": "code",
   "execution_count": 135,
   "metadata": {},
   "outputs": [
    {
     "data": {
      "text/plain": [
       "'8'"
      ]
     },
     "execution_count": 135,
     "metadata": {},
     "output_type": "execute_result"
    }
   ],
   "source": [
    "machine_name = 'n1-highmem-8'\n",
    "vcpus = machine_name.split('-')[-1]\n",
    "vcpus"
   ]
  },
  {
   "cell_type": "code",
   "execution_count": 320,
   "metadata": {},
   "outputs": [],
   "source": [
    "DEFAULT_STUDY_SPEC= {\n",
    "  \"metrics\": [\n",
    "    {\n",
    "      \"metric_id\": \"auc\",\n",
    "      \"goal\": \"MAXIMIZE\"\n",
    "    }\n",
    "  ],\n",
    "\"parameters\": [\n",
    "   {\n",
    "     \"parameter_id\": \"max_steps\",\n",
    "     \"integer_value_spec\": {\n",
    "       \"min_value\": \"20000\",\n",
    "       \"max_value\": \"50000\"\n",
    "     },\n",
    "     \"scale_type\": \"UNIT_LINEAR_SCALE\"\n",
    "   },\n",
    "   {\n",
    "     \"parameter_id\": \"feature_dim\",\n",
    "     \"integer_value_spec\": {\n",
    "       \"min_value\": \"30\",\n",
    "       \"max_value\": \"160\"\n",
    "     },\n",
    "     \"scale_type\": \"UNIT_LINEAR_SCALE\"\n",
    "   },\n",
    "   {\n",
    "     \"parameter_id\": \"feature_dim_ratio\",\n",
    "     \"double_value_spec\": {\n",
    "       \"min_value\": 0.5,\n",
    "       \"max_value\": 0.7\n",
    "     },\n",
    "     \"scale_type\": \"UNIT_LINEAR_SCALE\"\n",
    "   },\n",
    "   {\n",
    "     \"parameter_id\": \"num_decision_steps\",\n",
    "     \"integer_value_spec\": {\n",
    "       \"min_value\": \"4\",\n",
    "       \"max_value\": \"8\"\n",
    "     },\n",
    "     \"scale_type\": \"UNIT_LINEAR_SCALE\"\n",
    "   },\n",
    "   {\n",
    "     \"parameter_id\": \"num_transformer_layers\",\n",
    "     \"integer_value_spec\": {\n",
    "       \"min_value\": \"4\",\n",
    "       \"max_value\": \"8\"\n",
    "     },\n",
    "     \"scale_type\": \"UNIT_LINEAR_SCALE\"\n",
    "   },\n",
    "   {\n",
    "     \"parameter_id\": \"num_transformer_layers_ratio\",\n",
    "     \"double_value_spec\": {\n",
    "       \"min_value\": 0.3,\n",
    "       \"max_value\": 0.6\n",
    "     },\n",
    "     \"scale_type\": \"UNIT_LINEAR_SCALE\"\n",
    "   },\n",
    "   {\n",
    "     \"parameter_id\": \"relaxation_factor\",\n",
    "     \"double_value_spec\": {\n",
    "       \"min_value\": 2,\n",
    "       \"max_value\": 4.5\n",
    "     },\n",
    "     \"scale_type\": \"UNIT_LINEAR_SCALE\"\n",
    "   },\n",
    "   {\n",
    "     \"parameter_id\": \"decay_every\",\n",
    "     \"double_value_spec\": {\n",
    "       \"min_value\": 20000,\n",
    "       \"max_value\": 50000\n",
    "     },\n",
    "     \"scale_type\": \"UNIT_LOG_SCALE\"\n",
    "   },\n",
    "   {\n",
    "     \"parameter_id\": \"decay_rate\",\n",
    "     \"double_value_spec\": {\n",
    "       \"min_value\": 0.7,\n",
    "       \"max_value\": 0.95\n",
    "     },\n",
    "     \"scale_type\": \"UNIT_LINEAR_SCALE\"\n",
    "   },\n",
    "   {\n",
    "     \"parameter_id\": \"batch_momentum\",\n",
    "     \"double_value_spec\": {\n",
    "       \"min_value\": 0.6,\n",
    "       \"max_value\": 0.95\n",
    "     },\n",
    "     \"scale_type\": \"UNIT_LINEAR_SCALE\"\n",
    "   },\n",
    "   {\n",
    "     \"parameter_id\": \"learning_rate\",\n",
    "     \"double_value_spec\": {\n",
    "       \"min_value\": 0.003,\n",
    "       \"max_value\": 0.008\n",
    "     },\n",
    "     \"scale_type\": \"UNIT_LOG_SCALE\"\n",
    "   },\n",
    "   {\n",
    "     \"parameter_id\": \"batch_size_ratio\",\n",
    "     \"double_value_spec\": {\n",
    "       \"min_value\": 0.3,\n",
    "       \"max_value\": 0.5\n",
    "     },\n",
    "     \"scale_type\": \"UNIT_LINEAR_SCALE\"\n",
    "   },\n",
    "   {\n",
    "     \"parameter_id\": \"sparsity_loss_weight\",\n",
    "     \"double_value_spec\": {\n",
    "       \"min_value\": 1e-7,\n",
    "       \"max_value\": 0.001\n",
    "     },\n",
    "     \"scale_type\": \"UNIT_LOG_SCALE\"\n",
    "   },\n",
    "   {\n",
    "     \"parameter_id\": \"batch_size\",\n",
    "     \"integer_value_spec\": {\n",
    "       \"min_value\": \"7084\",\n",
    "       \"max_value\": \"37536\"\n",
    "     },\n",
    "     \"scale_type\": \"UNIT_LINEAR_SCALE\"\n",
    "   },\n",
    "   {\n",
    "     \"parameter_id\": \"class_weight\",\n",
    "     \"double_value_spec\": {\n",
    "       \"min_value\": 0.2,\n",
    "       \"max_value\": 0.7\n",
    "     },\n",
    "     \"scale_type\": \"UNIT_LOG_SCALE\"\n",
    "   }\n",
    " ]\n",
    "}"
   ]
  },
  {
   "cell_type": "code",
   "execution_count": 579,
   "metadata": {},
   "outputs": [],
   "source": [
    "#JSON FORMAT\n",
    "long_trips_study_spec = {\n",
    "    \"metrics\": [\n",
    "      {\n",
    "        \"metricId\": \"mae\",\n",
    "        \"goal\": \"MINIMIZE\"\n",
    "      }\n",
    "    ],\n",
    "    \"parameters\": [\n",
    "      {\n",
    "        \"parameter_id\": \"max_steps\",\n",
    "        \"integer_value_spec\": {\n",
    "          \"min_value\": \"60500\",\n",
    "          \"max_value\": \"80000\"\n",
    "        },\n",
    "        \"scaleType\": \"UNIT_LINEAR_SCALE\"\n",
    "      },\n",
    "      {\n",
    "        \"parameterId\": \"feature_dim\",\n",
    "        \"integerValueSpec\": {\n",
    "          \"minValue\": \"128\",\n",
    "          \"maxValue\": \"324\"\n",
    "        },\n",
    "        \"scaleType\": \"UNIT_LINEAR_SCALE\"\n",
    "      },\n",
    "      {\n",
    "        \"parameterId\": \"feature_dim_ratio\",\n",
    "        \"doubleValueSpec\": {\n",
    "          \"minValue\": 0.5,\n",
    "          \"maxValue\": 0.7\n",
    "        },\n",
    "        \"scaleType\": \"UNIT_LINEAR_SCALE\"\n",
    "      },\n",
    "      {\n",
    "        \"parameterId\": \"num_decision_steps\",\n",
    "        \"integerValueSpec\": {\n",
    "          \"minValue\": \"4\",\n",
    "          \"maxValue\": \"10\"\n",
    "        },\n",
    "        \"scaleType\": \"UNIT_LINEAR_SCALE\"\n",
    "      },\n",
    "      {\n",
    "        \"parameterId\": \"num_transformer_layers\",\n",
    "        \"integerValueSpec\": {\n",
    "          \"minValue\": \"4\",\n",
    "          \"maxValue\": \"10\"\n",
    "        },\n",
    "        \"scaleType\": \"UNIT_LINEAR_SCALE\"\n",
    "      },\n",
    "      {\n",
    "        \"parameterId\": \"num_transformer_layers_ratio\",\n",
    "        \"doubleValueSpec\": {\n",
    "          \"minValue\": 0.4,\n",
    "          \"maxValue\": 0.6\n",
    "        },\n",
    "        \"scaleType\": \"UNIT_LINEAR_SCALE\"\n",
    "      },\n",
    "      {\n",
    "        \"parameterId\": \"relaxation_factor\",\n",
    "        \"doubleValueSpec\": {\n",
    "          \"minValue\": 1.3,\n",
    "          \"maxValue\": 3.5\n",
    "        },\n",
    "        \"scaleType\": \"UNIT_LINEAR_SCALE\"\n",
    "      },\n",
    "      {\n",
    "        \"parameterId\": \"decay_every\",\n",
    "        \"doubleValueSpec\": {\n",
    "          \"minValue\": 10000,\n",
    "          \"maxValue\": 50000\n",
    "        },\n",
    "        \"scaleType\": \"UNIT_LOG_SCALE\"\n",
    "      },\n",
    "      {\n",
    "        \"parameterId\": \"decay_rate\",\n",
    "        \"doubleValueSpec\": {\n",
    "          \"minValue\": 0.7,\n",
    "          \"maxValue\": 0.99\n",
    "        },\n",
    "        \"scaleType\": \"UNIT_LINEAR_SCALE\"\n",
    "      },\n",
    "      {\n",
    "        \"parameterId\": \"batch_momentum\",\n",
    "        \"doubleValueSpec\": {\n",
    "          \"minValue\": 0.5,\n",
    "          \"maxValue\": 0.95\n",
    "        },\n",
    "        \"scaleType\": \"UNIT_LINEAR_SCALE\"\n",
    "      },\n",
    "      {\n",
    "        \"parameterId\": \"learning_rate\",\n",
    "        \"doubleValueSpec\": {\n",
    "          \"minValue\": 0.0002,\n",
    "          \"maxValue\": 0.005\n",
    "        },\n",
    "        \"scaleType\": \"UNIT_LOG_SCALE\"\n",
    "      },\n",
    "      {\n",
    "        \"parameterId\": \"batch_size_ratio\",\n",
    "        \"doubleValueSpec\": {\n",
    "          \"minValue\": 0.1,\n",
    "          \"maxValue\": 0.4\n",
    "        },\n",
    "        \"scaleType\": \"UNIT_LINEAR_SCALE\"\n",
    "      },\n",
    "      {\n",
    "        \"parameterId\": \"sparsity_loss_weight\",\n",
    "        \"doubleValueSpec\": {\n",
    "          \"minValue\": 0.000001,\n",
    "          \"maxValue\": 0.1\n",
    "        },\n",
    "        \"scaleType\": \"UNIT_LOG_SCALE\"\n",
    "      },\n",
    "      {\n",
    "        \"parameterId\": \"batch_size\",\n",
    "        \"integerValueSpec\": {\n",
    "          \"minValue\": \"2048\",\n",
    "          \"maxValue\": \"16384\"\n",
    "        },\n",
    "        \"scaleType\": \"UNIT_LINEAR_SCALE\"\n",
    "      }\n",
    "    ]\n",
    "  }\n",
    "\n",
    "ltss = json_format.MessageToDict(json_format.ParseDict(long_trips_study_spec,aiplatform_v1.StudySpec()._pb),preserving_proto_field_name=True)"
   ]
  },
  {
   "cell_type": "code",
   "execution_count": null,
   "metadata": {},
   "outputs": [],
   "source": []
  },
  {
   "cell_type": "code",
   "execution_count": 399,
   "metadata": {},
   "outputs": [],
   "source": [
    "# Parse output of hyperpredict files and generate study specs\n",
    "import re\n",
    "\n",
    "def parse_hyperpredict_params(dataset,study_spec=DEFAULT_STUDY_SPEC):\n",
    "    hparams = {}\n",
    "    revised_spec = study_spec.copy()\n",
    "    with open(f\"hyperpredict_study_specs/{dataset}.txt\") as file:\n",
    "        for line in file:\n",
    "            m = re.match(\"\\('(\\w+)'.+\\[(.+)\\]\\)\",line.rstrip())\n",
    "            if m:\n",
    "                hparams[m.group(1)]= m.group(2).split(',')\n",
    "                \n",
    "    for i,param in enumerate(study_spec['parameters']):\n",
    "        \n",
    "        if param['parameter_id'] in hparams:\n",
    "            min = hparams[param['parameter_id']][0]\n",
    "            max = hparams[param['parameter_id']][1]\n",
    "            if 'integer_value_spec' in param:\n",
    "                revised_spec['parameters'][i]['integer_value_spec'] = {\"min_value\":int(min),\"max_value\":int(max) }\n",
    "            else:\n",
    "                revised_spec['parameters'][i]['double_value_spec'] = {\"min_value\":float(min),\"max_value\":float(max) }\n",
    "    return revised_spec\n",
    "                \n",
    "#parse_hyperpredict_params(\"login_2fa\")"
   ]
  },
  {
   "cell_type": "code",
   "execution_count": 411,
   "metadata": {},
   "outputs": [
    {
     "data": {
      "text/plain": [
       "['--training_data_path=sungyong-internship.uber_dataset.login_2fa_split_train_uuid',\n",
       " '--test_data_path=sungyong-internship.uber_dataset.login_2fa_test',\n",
       " '--validation_data_path=sungyong-internship.uber_dataset.login_2fa_split_valid_uuid',\n",
       " '--model_type=classification',\n",
       " '--input_metadata_path=gs://uber-tabnet-poc/metadata/login_2fa_split_train_metadata_quantiles.json',\n",
       " '--input_type=bigquery',\n",
       " '--deterministic_data=False',\n",
       " '--target_column=\\\\label\\\\']"
      ]
     },
     "execution_count": 411,
     "metadata": {},
     "output_type": "execute_result"
    }
   ],
   "source": [
    "# Read in Job Trial Specs for each dataset\n",
    "def get_job_trial_specs(dataset):    \n",
    "    datasets = {\n",
    "        \"ato_risk_v1\":[],\n",
    "        \"login_2fa\":[],\n",
    "        \"long_trips\":[],\n",
    "        \"prep_time\":[],\n",
    "        \"home_eats\":[]\n",
    "    }\n",
    "    \n",
    "    if dataset not in datasets:\n",
    "        raise Exception(\"Unknown dataset\")\n",
    "    \n",
    "    filename = f\"trial_job_specs/{dataset}.txt\"\n",
    "    with open(filename) as file:\n",
    "            data = file.read().replace('\\n', '').replace('\"', '')\n",
    "            trial_specs = data.split(',')\n",
    "    return trial_specs\n",
    "\n",
    "get_job_trial_specs('login_2fa')\n",
    "    "
   ]
  },
  {
   "cell_type": "markdown",
   "metadata": {},
   "source": [
    "### James - start here for looking at how to run a TabNet H-tune job"
   ]
  },
  {
   "cell_type": "code",
   "execution_count": 626,
   "metadata": {},
   "outputs": [],
   "source": [
    "from datetime import datetime, timedelta\n",
    "\n",
    "from google.cloud import aiplatform_v1\n",
    "\n",
    "from time import sleep\n",
    "\n",
    "from google.cloud import aiplatform_v1\n",
    "\n",
    "def create_hyperparameter_tuning_job(job_prefix,replica_count=1,max_trial_count=100,parallel_trial_count=10, max_failed_trial_count=10, machine_spec={\n",
    "        \"machine_type\": \"n1-highmem-8\",\n",
    "        \"accelerator_type\": \"NVIDIA_TESLA_T4\",\n",
    "        \"accelerator_count\": 2\n",
    "      },study_spec=DEFAULT_STUDY_SPEC,use_legacy_aip=False):\n",
    "    \n",
    "    machine_config = machine_spec['machine_type']\n",
    "    vcpus = machine_config.split('-')[-1]\n",
    "\n",
    "    if 'accelerator_type' in machine_spec:\n",
    "        machine_config += f\"_{machine_spec['accelerator_type']}_x{machine_spec['accelerator_count']}\"\n",
    "    else:\n",
    "        machine_config += \"_CPU_ONLY\"\n",
    "    \n",
    "    display_name = f\"{job_prefix}_{machine_config}_{datetime.now().strftime('%Y%m%d_%H%M%S')}\"\n",
    "    # Create a client\n",
    "    client = aiplatform_v1.JobServiceClient(client_options=dict(api_endpoint=ENDPOINT))\n",
    "    \n",
    "    # Get job specific study_spec and trial_spec\n",
    "    study_spec = aiplatform_v1.StudySpec(parse_hyperpredict_params(job_prefix,study_spec=study_spec))\n",
    "    job_trial_spec = get_job_trial_specs(job_prefix)\n",
    "\n",
    "    # Initialize request argument(s)\n",
    "    hyperparameter_tuning_job = aiplatform_v1.HyperparameterTuningJob()\n",
    "    hyperparameter_tuning_job.display_name = display_name\n",
    "    hyperparameter_tuning_job.study_spec = study_spec\n",
    "    hyperparameter_tuning_job.max_trial_count = max_trial_count\n",
    "    hyperparameter_tuning_job.parallel_trial_count = parallel_trial_count\n",
    "    #hyperparameter_tuning_job.enable_trial_early_stopping = True\n",
    "    hyperparameter_tuning_job.max_failed_trial_count = max_failed_trial_count \n",
    "\n",
    "\n",
    "    hyperparameter_tuning_job.trial_job_spec.worker_pool_specs =   [\n",
    "    {\n",
    "      \"machine_spec\": machine_spec,\n",
    "      \"replica_count\": replica_count,\n",
    "      \"disk_spec\": {\n",
    "          \"boot_disk_type\": \"pd-ssd\",\n",
    "          \"boot_disk_size_gb\": 100\n",
    "      },\n",
    "      \"container_spec\": {\n",
    "        \"image_uri\": TRAIN_IMAGE,\n",
    "        \"args\": [\n",
    "           \"--eval_frequency_secs=3600000\",\n",
    "            f\"--num_parallel_reads=4\",\n",
    "            #f\"--num_parallel_reads={vcpus}\",\n",
    "            \"--optimizer_type=adam\",\n",
    "            \"--data_cache=disk\",\n",
    "            \"--stream_inputs\",\n",
    "            # \"--training_data_path=sungyong-internship.uber_dataset.ato_risk_v1_split_train\",\n",
    "            # \"--validation_data_path=sungyong-internship.uber_dataset.ato_risk_v1_split_valid\",\n",
    "            # \"--test_data_path=sungyong-internship.uber_dataset.ato_risk_v1_test\",\n",
    "            # \"--input_metadata_path=gs://tabnet-poc-cost-optimization/metadata/ato_risk_v1_train_metadata.json\",\n",
    "            # \"--input_type=bigquery\",\n",
    "            # \"--model_type=classification\",\n",
    "            # \"--target_column=did_order\"\n",
    "          # RJV - Added\n",
    "          f\"--job-dir=gs://tabnet-poc-cost-optimization/{display_name}/\",\n",
    "        ] + job_trial_spec\n",
    "      }\n",
    "    }\n",
    "  ]\n",
    "\n",
    "    request = aiplatform_v1.CreateHyperparameterTuningJobRequest(\n",
    "        parent=f'projects/{PROJECT_ID}/locations/{LOCATION}',\n",
    "        hyperparameter_tuning_job=hyperparameter_tuning_job,\n",
    "    )\n",
    "\n",
    "    #run on legacy AIP\n",
    "    if use_legacy_aip:\n",
    "        from googleapiclient import discovery\n",
    "\n",
    "        job_spec = convert_vertex_hpt_to_aip_hpt(hyperparameter_tuning_job)\n",
    "        project_path = f'projects/{PROJECT_ID}'\n",
    "        \n",
    "        cloudml = discovery.build('ml', 'v1')\n",
    "        request = cloudml.projects().jobs().create(body=job_spec,\n",
    "              parent=project_path)\n",
    "        response = request.execute()\n",
    "\n",
    "        \n",
    "    else:\n",
    "        # Make the request\n",
    "        response = client.create_hyperparameter_tuning_job(request=request)\n",
    "\n",
    "        # Handle the response\n",
    "        print(response)\n",
    "    "
   ]
  },
  {
   "cell_type": "code",
   "execution_count": 628,
   "metadata": {},
   "outputs": [],
   "source": [
    "from google.protobuf import json_format\n",
    "\n",
    "def convert_study_spec_to_list(study_spec):\n",
    "    params = []\n",
    "    for parameter in study_spec.parameters:\n",
    "        if 'integer_value_spec' in parameter:\n",
    "            paramType = 'INTEGER'\n",
    "            min_value = parameter.integer_value_spec.min_value\n",
    "            max_value = parameter.integer_value_spec.max_value\n",
    "        elif 'double_value_spec' in parameter:\n",
    "            paramType = 'DOUBLE'\n",
    "            min_value = parameter.double_value_spec.min_value\n",
    "            max_value = parameter.double_value_spec.max_value\n",
    "            \n",
    "        params.append({\n",
    "            'parameterName':parameter.parameter_id,\n",
    "            'type':paramType,\n",
    "            'minValue':min_value,\n",
    "            'maxValue':max_value,\n",
    "            'scaleType':parameter.scale_type.name\n",
    "        })\n",
    "    return params\n",
    "        \n",
    "def convert_vertex_hpt_to_aip_hpt(vertex_hpt_job):\n",
    "        \n",
    "    machine_type = vertex_hpt_job.trial_job_spec.worker_pool_specs[0].machine_spec.machine_type\n",
    "    accelerator_type = vertex_hpt_job.trial_job_spec.worker_pool_specs[0].machine_spec.accelerator_type\n",
    "    accelerator_count = vertex_hpt_job.trial_job_spec.worker_pool_specs[0].machine_spec.accelerator_count\n",
    "    \n",
    "    replica_count = vertex_hpt_job.trial_job_spec.worker_pool_specs[0].replica_count\n",
    "    args = vertex_hpt_job.trial_job_spec.worker_pool_specs[0].container_spec.args[:]\n",
    "    image_uri = vertex_hpt_job.trial_job_spec.worker_pool_specs[0].container_spec.image_uri\n",
    "    \n",
    "    boot_disk_type = vertex_hpt_job.trial_job_spec.worker_pool_specs[0].disk_spec.boot_disk_type\n",
    "    boot_disk_size = vertex_hpt_job.trial_job_spec.worker_pool_specs[0].disk_spec.boot_disk_size_gb\n",
    "\n",
    "    replica_config = {\n",
    "          \"acceleratorConfig\": {\n",
    "            \"type\": accelerator_type.name,\n",
    "            \"count\": accelerator_count\n",
    "          },\n",
    "          \"imageUri\": image_uri,\n",
    "           \"diskConfig\": {\n",
    "              \"bootDiskType\": boot_disk_type,\n",
    "              \"bootDiskSizeGb\": boot_disk_size\n",
    "           },\n",
    "          \"containerArgs\": args\n",
    "        }\n",
    "    \n",
    "\n",
    "    training_inputs = {\n",
    "        'scaleTier': 'CUSTOM',\n",
    "        'masterType': machine_type,\n",
    "        'masterConfig': replica_config,\n",
    "        # 'workerType': machine_type,\n",
    "        # 'workerConfig':replica_config,\n",
    "        #'workerCount': replica_count,\n",
    "        'region': 'us-central1',\n",
    "    }\n",
    "    \n",
    "    \n",
    "    \n",
    "    hyperparams = {\n",
    "        'goal':vertex_hpt_job.study_spec.metrics[0].goal.name,\n",
    "        'hyperparameterMetricTag':vertex_hpt_job.study_spec.metrics[0].metric_id,\n",
    "        'maxTrials':vertex_hpt_job.max_trial_count,\n",
    "        'maxParallelTrials': vertex_hpt_job.parallel_trial_count,\n",
    "        'maxFailedTrials':vertex_hpt_job.max_failed_trial_count,\n",
    "        'params':convert_study_spec_to_list(vertex_hpt_job.study_spec)\n",
    "    }\n",
    "        \n",
    "    \n",
    "    training_inputs[\"hyperparameters\"]= hyperparams\n",
    "\n",
    "    job_spec = {\n",
    "        'jobId':vertex_hpt_job.display_name.replace('-','_'),\n",
    "        'trainingInput':training_inputs\n",
    "    }\n",
    "    #print(json.dumps(job_spec,indent=4))\n",
    "    return job_spec\n",
    "    "
   ]
  },
  {
   "cell_type": "code",
   "execution_count": 586,
   "metadata": {
    "scrolled": true,
    "tags": []
   },
   "outputs": [
    {
     "name": "stdout",
     "output_type": "stream",
     "text": [
      "{\n",
      "  \"jobId\": \"ato_risk_v1_n1_highmem_16_NVIDIA_TESLA_T4_x1_20220801_185327\",\n",
      "  \"trainingInput\": {\n",
      "    \"hyperparameters\": {\n",
      "      \"goal\": \"MAXIMIZE\",\n",
      "      \"hyperparameterMetricTag\": \"auc\",\n",
      "      \"maxTrials\": 400,\n",
      "      \"maxParallelTrials\": 20,\n",
      "      \"maxFailedTrials\": 10,\n",
      "      \"params\": [\n",
      "        {\n",
      "          \"parameterName\": \"max_steps\",\n",
      "          \"type\": \"INTEGER\",\n",
      "          \"minValue\": 2000,\n",
      "          \"maxValue\": 58786,\n",
      "          \"scaleType\": \"UNIT_LINEAR_SCALE\"\n",
      "        },\n",
      "        {\n",
      "          \"parameterName\": \"feature_dim\",\n",
      "          \"type\": \"INTEGER\",\n",
      "          \"minValue\": 64,\n",
      "          \"maxValue\": 360,\n",
      "          \"scaleType\": \"UNIT_LINEAR_SCALE\"\n",
      "        },\n",
      "        {\n",
      "          \"parameterName\": \"feature_dim_ratio\",\n",
      "          \"type\": \"DOUBLE\",\n",
      "          \"minValue\": 0.3,\n",
      "          \"maxValue\": 0.6000000000000001,\n",
      "          \"scaleType\": \"UNIT_LINEAR_SCALE\"\n",
      "        },\n",
      "        {\n",
      "          \"parameterName\": \"num_decision_steps\",\n",
      "          \"type\": \"INTEGER\",\n",
      "          \"minValue\": 2,\n",
      "          \"maxValue\": 7,\n",
      "          \"scaleType\": \"UNIT_LINEAR_SCALE\"\n",
      "        },\n",
      "        {\n",
      "          \"parameterName\": \"num_transformer_layers\",\n",
      "          \"type\": \"INTEGER\",\n",
      "          \"minValue\": 2,\n",
      "          \"maxValue\": 7,\n",
      "          \"scaleType\": \"UNIT_LINEAR_SCALE\"\n",
      "        },\n",
      "        {\n",
      "          \"parameterName\": \"num_transformer_layers_ratio\",\n",
      "          \"type\": \"DOUBLE\",\n",
      "          \"minValue\": 0.1,\n",
      "          \"maxValue\": 0.8702673544409395,\n",
      "          \"scaleType\": \"UNIT_LINEAR_SCALE\"\n",
      "        },\n",
      "        {\n",
      "          \"parameterName\": \"relaxation_factor\",\n",
      "          \"type\": \"DOUBLE\",\n",
      "          \"minValue\": 1.0,\n",
      "          \"maxValue\": 3.087514803110227,\n",
      "          \"scaleType\": \"UNIT_LINEAR_SCALE\"\n",
      "        },\n",
      "        {\n",
      "          \"parameterName\": \"decay_every\",\n",
      "          \"type\": \"DOUBLE\",\n",
      "          \"minValue\": 2000.0,\n",
      "          \"maxValue\": 29393.0,\n",
      "          \"scaleType\": \"UNIT_LOG_SCALE\"\n",
      "        },\n",
      "        {\n",
      "          \"parameterName\": \"decay_rate\",\n",
      "          \"type\": \"DOUBLE\",\n",
      "          \"minValue\": 0.793232154398783,\n",
      "          \"maxValue\": 0.999,\n",
      "          \"scaleType\": \"UNIT_LINEAR_SCALE\"\n",
      "        },\n",
      "        {\n",
      "          \"parameterName\": \"batch_momentum\",\n",
      "          \"type\": \"DOUBLE\",\n",
      "          \"minValue\": 0.6,\n",
      "          \"maxValue\": 0.95,\n",
      "          \"scaleType\": \"UNIT_LINEAR_SCALE\"\n",
      "        },\n",
      "        {\n",
      "          \"parameterName\": \"learning_rate\",\n",
      "          \"type\": \"DOUBLE\",\n",
      "          \"minValue\": 0.0005250000000000001,\n",
      "          \"maxValue\": 0.001,\n",
      "          \"scaleType\": \"UNIT_LOG_SCALE\"\n",
      "        },\n",
      "        {\n",
      "          \"parameterName\": \"batch_size_ratio\",\n",
      "          \"type\": \"DOUBLE\",\n",
      "          \"minValue\": 0.21264181409746452,\n",
      "          \"maxValue\": 0.6,\n",
      "          \"scaleType\": \"UNIT_LINEAR_SCALE\"\n",
      "        },\n",
      "        {\n",
      "          \"parameterName\": \"sparsity_loss_weight\",\n",
      "          \"type\": \"DOUBLE\",\n",
      "          \"minValue\": 5e-05,\n",
      "          \"maxValue\": 0.5,\n",
      "          \"scaleType\": \"UNIT_LOG_SCALE\"\n",
      "        },\n",
      "        {\n",
      "          \"parameterName\": \"batch_size\",\n",
      "          \"type\": \"INTEGER\",\n",
      "          \"minValue\": 512,\n",
      "          \"maxValue\": 52361,\n",
      "          \"scaleType\": \"UNIT_LINEAR_SCALE\"\n",
      "        },\n",
      "        {\n",
      "          \"parameterName\": \"class_weight\",\n",
      "          \"type\": \"DOUBLE\",\n",
      "          \"minValue\": 0.2,\n",
      "          \"maxValue\": 0.7,\n",
      "          \"scaleType\": \"UNIT_LOG_SCALE\"\n",
      "        }\n",
      "      ]\n",
      "    }\n",
      "  }\n",
      "}\n"
     ]
    },
    {
     "ename": "HttpError",
     "evalue": "<HttpError 500 when requesting https://ml.googleapis.com/v1/projects/sungyong-internship/jobs?alt=json returned \"Internal error encountered.\". Details: \"Internal error encountered.\">",
     "output_type": "error",
     "traceback": [
      "\u001b[0;31m---------------------------------------------------------------------------\u001b[0m",
      "\u001b[0;31mHttpError\u001b[0m                                 Traceback (most recent call last)",
      "\u001b[0;32m/tmp/ipykernel_1851/3849726808.py\u001b[0m in \u001b[0;36m<module>\u001b[0;34m\u001b[0m\n\u001b[0;32m----> 1\u001b[0;31m \u001b[0mcreate_hyperparameter_tuning_job\u001b[0m\u001b[0;34m(\u001b[0m\u001b[0;34m\"ato_risk_v1\"\u001b[0m\u001b[0;34m,\u001b[0m\u001b[0mreplica_count\u001b[0m\u001b[0;34m=\u001b[0m\u001b[0;36m1\u001b[0m\u001b[0;34m,\u001b[0m\u001b[0mmax_trial_count\u001b[0m\u001b[0;34m=\u001b[0m\u001b[0;36m400\u001b[0m\u001b[0;34m,\u001b[0m\u001b[0mparallel_trial_count\u001b[0m\u001b[0;34m=\u001b[0m\u001b[0;36m20\u001b[0m\u001b[0;34m,\u001b[0m\u001b[0mmax_failed_trial_count\u001b[0m\u001b[0;34m=\u001b[0m\u001b[0;36m10\u001b[0m\u001b[0;34m,\u001b[0m\u001b[0mmachine_spec\u001b[0m\u001b[0;34m=\u001b[0m\u001b[0;34m{\u001b[0m\u001b[0;34m\"machine_type\"\u001b[0m\u001b[0;34m:\u001b[0m \u001b[0;34m\"n1-highmem-16\"\u001b[0m\u001b[0;34m,\u001b[0m\u001b[0;34m\"accelerator_type\"\u001b[0m\u001b[0;34m:\u001b[0m \u001b[0;34m\"NVIDIA_TESLA_T4\"\u001b[0m\u001b[0;34m,\u001b[0m\u001b[0;34m\"accelerator_count\"\u001b[0m\u001b[0;34m:\u001b[0m \u001b[0;36m1\u001b[0m\u001b[0;34m}\u001b[0m\u001b[0;34m,\u001b[0m\u001b[0muse_legacy_aip\u001b[0m\u001b[0;34m=\u001b[0m\u001b[0;32mTrue\u001b[0m\u001b[0;34m)\u001b[0m\u001b[0;34m\u001b[0m\u001b[0;34m\u001b[0m\u001b[0m\n\u001b[0m",
      "\u001b[0;32m/tmp/ipykernel_1851/3090575035.py\u001b[0m in \u001b[0;36mcreate_hyperparameter_tuning_job\u001b[0;34m(job_prefix, replica_count, max_trial_count, parallel_trial_count, max_failed_trial_count, machine_spec, study_spec, use_legacy_aip)\u001b[0m\n\u001b[1;32m     86\u001b[0m         request = cloudml.projects().jobs().create(body=job_spec,\n\u001b[1;32m     87\u001b[0m               parent=project_path)\n\u001b[0;32m---> 88\u001b[0;31m         \u001b[0mresponse\u001b[0m \u001b[0;34m=\u001b[0m \u001b[0mrequest\u001b[0m\u001b[0;34m.\u001b[0m\u001b[0mexecute\u001b[0m\u001b[0;34m(\u001b[0m\u001b[0;34m)\u001b[0m\u001b[0;34m\u001b[0m\u001b[0;34m\u001b[0m\u001b[0m\n\u001b[0m\u001b[1;32m     89\u001b[0m \u001b[0;34m\u001b[0m\u001b[0m\n\u001b[1;32m     90\u001b[0m \u001b[0;34m\u001b[0m\u001b[0m\n",
      "\u001b[0;32m/opt/conda/lib/python3.7/site-packages/googleapiclient/_helpers.py\u001b[0m in \u001b[0;36mpositional_wrapper\u001b[0;34m(*args, **kwargs)\u001b[0m\n\u001b[1;32m    129\u001b[0m                 \u001b[0;32melif\u001b[0m \u001b[0mpositional_parameters_enforcement\u001b[0m \u001b[0;34m==\u001b[0m \u001b[0mPOSITIONAL_WARNING\u001b[0m\u001b[0;34m:\u001b[0m\u001b[0;34m\u001b[0m\u001b[0;34m\u001b[0m\u001b[0m\n\u001b[1;32m    130\u001b[0m                     \u001b[0mlogger\u001b[0m\u001b[0;34m.\u001b[0m\u001b[0mwarning\u001b[0m\u001b[0;34m(\u001b[0m\u001b[0mmessage\u001b[0m\u001b[0;34m)\u001b[0m\u001b[0;34m\u001b[0m\u001b[0;34m\u001b[0m\u001b[0m\n\u001b[0;32m--> 131\u001b[0;31m             \u001b[0;32mreturn\u001b[0m \u001b[0mwrapped\u001b[0m\u001b[0;34m(\u001b[0m\u001b[0;34m*\u001b[0m\u001b[0margs\u001b[0m\u001b[0;34m,\u001b[0m \u001b[0;34m**\u001b[0m\u001b[0mkwargs\u001b[0m\u001b[0;34m)\u001b[0m\u001b[0;34m\u001b[0m\u001b[0;34m\u001b[0m\u001b[0m\n\u001b[0m\u001b[1;32m    132\u001b[0m \u001b[0;34m\u001b[0m\u001b[0m\n\u001b[1;32m    133\u001b[0m         \u001b[0;32mreturn\u001b[0m \u001b[0mpositional_wrapper\u001b[0m\u001b[0;34m\u001b[0m\u001b[0;34m\u001b[0m\u001b[0m\n",
      "\u001b[0;32m/opt/conda/lib/python3.7/site-packages/googleapiclient/http.py\u001b[0m in \u001b[0;36mexecute\u001b[0;34m(self, http, num_retries)\u001b[0m\n\u001b[1;32m    935\u001b[0m             \u001b[0mcallback\u001b[0m\u001b[0;34m(\u001b[0m\u001b[0mresp\u001b[0m\u001b[0;34m)\u001b[0m\u001b[0;34m\u001b[0m\u001b[0;34m\u001b[0m\u001b[0m\n\u001b[1;32m    936\u001b[0m         \u001b[0;32mif\u001b[0m \u001b[0mresp\u001b[0m\u001b[0;34m.\u001b[0m\u001b[0mstatus\u001b[0m \u001b[0;34m>=\u001b[0m \u001b[0;36m300\u001b[0m\u001b[0;34m:\u001b[0m\u001b[0;34m\u001b[0m\u001b[0;34m\u001b[0m\u001b[0m\n\u001b[0;32m--> 937\u001b[0;31m             \u001b[0;32mraise\u001b[0m \u001b[0mHttpError\u001b[0m\u001b[0;34m(\u001b[0m\u001b[0mresp\u001b[0m\u001b[0;34m,\u001b[0m \u001b[0mcontent\u001b[0m\u001b[0;34m,\u001b[0m \u001b[0muri\u001b[0m\u001b[0;34m=\u001b[0m\u001b[0mself\u001b[0m\u001b[0;34m.\u001b[0m\u001b[0muri\u001b[0m\u001b[0;34m)\u001b[0m\u001b[0;34m\u001b[0m\u001b[0;34m\u001b[0m\u001b[0m\n\u001b[0m\u001b[1;32m    938\u001b[0m         \u001b[0;32mreturn\u001b[0m \u001b[0mself\u001b[0m\u001b[0;34m.\u001b[0m\u001b[0mpostproc\u001b[0m\u001b[0;34m(\u001b[0m\u001b[0mresp\u001b[0m\u001b[0;34m,\u001b[0m \u001b[0mcontent\u001b[0m\u001b[0;34m)\u001b[0m\u001b[0;34m\u001b[0m\u001b[0;34m\u001b[0m\u001b[0m\n\u001b[1;32m    939\u001b[0m \u001b[0;34m\u001b[0m\u001b[0m\n",
      "\u001b[0;31mHttpError\u001b[0m: <HttpError 500 when requesting https://ml.googleapis.com/v1/projects/sungyong-internship/jobs?alt=json returned \"Internal error encountered.\". Details: \"Internal error encountered.\">"
     ]
    }
   ],
   "source": [
    "create_hyperparameter_tuning_job(\"ato_risk_v1\",replica_count=1,max_trial_count=400,parallel_trial_count=20,max_failed_trial_count=10,machine_spec={\"machine_type\": \"n1-highmem-16\",\"accelerator_type\": \"NVIDIA_TESLA_T4\",\"accelerator_count\": 1},use_legacy_aip=True)\n"
   ]
  },
  {
   "cell_type": "markdown",
   "metadata": {},
   "source": [
    "### login_2fa"
   ]
  },
  {
   "cell_type": "code",
   "execution_count": null,
   "metadata": {},
   "outputs": [],
   "source": [
    "\n",
    "#login_2fa cost optimized\n",
    "#create_hyperparameter_tuning_job(\"login_2fa\",replica_count=1,max_trial_count=400,parallel_trial_count=20,max_failed_trial_count=10,machine_spec={\"machine_type\": \"e2-standard-16\"})\n",
    "\n",
    "#login_2fa balanced\n",
    "#create_hyperparameter_tuning_job(\"login_2fa\",replica_count=1,max_trial_count=400,parallel_trial_count=20,max_failed_trial_count=10,machine_spec={\"machine_type\": \"c2-standard-16\"})\n",
    "\n",
    "#login_2fa performance\n",
    "#create_hyperparameter_tuning_job(\"login_2fa\",replica_count=1,max_trial_count=400,parallel_trial_count=20,max_failed_trial_count=10,machine_spec={\"machine_type\": \"n1-highmem-16\",\"accelerator_type\": \"NVIDIA_TESLA_V100\",\"accelerator_count\": 2})\n",
    "\n",
    "#login_2fa balanced - GPU\n",
    "#create_hyperparameter_tuning_job(\"login_2fa\",replica_count=1,max_trial_count=420,parallel_trial_count=30,max_failed_trial_count=10,machine_spec={\"machine_type\": \"n1-highmem-16\",\"accelerator_type\": \"NVIDIA_TESLA_T4\",\"accelerator_count\": 1})\n",
    "\n",
    "#login_2fa performance - GPU\n",
    "#create_hyperparameter_tuning_job(\"login_2fa\",replica_count=1,max_trial_count=420,parallel_trial_count=5,max_failed_trial_count=10,machine_spec={\"machine_type\": \"a2-highgpu-1g\",\"accelerator_type\": \"NVIDIA_TESLA_A100\",\"accelerator_count\": 1})\n",
    "\n",
    "\n",
    "#create_hyperparameter_tuning_job(\"login_2fa\",replica_count=1,max_trial_count=400,parallel_trial_count=8,max_failed_trial_count=10,machine_spec={\"machine_type\": \"n1-highmem-16\",\"accelerator_type\": \"NVIDIA_TESLA_T4\",\"accelerator_count\": 1},study_spec)\n"
   ]
  },
  {
   "cell_type": "markdown",
   "metadata": {},
   "source": [
    "### ato_risk_v1"
   ]
  },
  {
   "cell_type": "code",
   "execution_count": 562,
   "metadata": {
    "scrolled": true,
    "tags": []
   },
   "outputs": [
    {
     "name": "stdout",
     "output_type": "stream",
     "text": [
      "name: \"projects/712758616004/locations/us-central1/hyperparameterTuningJobs/5745746775449272320\"\n",
      "display_name: \"ato_risk_v1_n1-highmem-16_NVIDIA_TESLA_T4_x1_20220801_182857\"\n",
      "study_spec {\n",
      "  metrics {\n",
      "    metric_id: \"auc\"\n",
      "    goal: MAXIMIZE\n",
      "  }\n",
      "  parameters {\n",
      "    parameter_id: \"max_steps\"\n",
      "    integer_value_spec {\n",
      "      min_value: 2000\n",
      "      max_value: 58786\n",
      "    }\n",
      "    scale_type: UNIT_LINEAR_SCALE\n",
      "  }\n",
      "  parameters {\n",
      "    parameter_id: \"feature_dim\"\n",
      "    integer_value_spec {\n",
      "      min_value: 64\n",
      "      max_value: 360\n",
      "    }\n",
      "    scale_type: UNIT_LINEAR_SCALE\n",
      "  }\n",
      "  parameters {\n",
      "    parameter_id: \"feature_dim_ratio\"\n",
      "    double_value_spec {\n",
      "      min_value: 0.3\n",
      "      max_value: 0.6000000000000001\n",
      "    }\n",
      "    scale_type: UNIT_LINEAR_SCALE\n",
      "  }\n",
      "  parameters {\n",
      "    parameter_id: \"num_decision_steps\"\n",
      "    integer_value_spec {\n",
      "      min_value: 2\n",
      "      max_value: 7\n",
      "    }\n",
      "    scale_type: UNIT_LINEAR_SCALE\n",
      "  }\n",
      "  parameters {\n",
      "    parameter_id: \"num_transformer_layers\"\n",
      "    integer_value_spec {\n",
      "      min_value: 2\n",
      "      max_value: 7\n",
      "    }\n",
      "    scale_type: UNIT_LINEAR_SCALE\n",
      "  }\n",
      "  parameters {\n",
      "    parameter_id: \"num_transformer_layers_ratio\"\n",
      "    double_value_spec {\n",
      "      min_value: 0.1\n",
      "      max_value: 0.8702673544409395\n",
      "    }\n",
      "    scale_type: UNIT_LINEAR_SCALE\n",
      "  }\n",
      "  parameters {\n",
      "    parameter_id: \"relaxation_factor\"\n",
      "    double_value_spec {\n",
      "      min_value: 1.0\n",
      "      max_value: 3.087514803110227\n",
      "    }\n",
      "    scale_type: UNIT_LINEAR_SCALE\n",
      "  }\n",
      "  parameters {\n",
      "    parameter_id: \"decay_every\"\n",
      "    double_value_spec {\n",
      "      min_value: 2000.0\n",
      "      max_value: 29393.0\n",
      "    }\n",
      "    scale_type: UNIT_LOG_SCALE\n",
      "  }\n",
      "  parameters {\n",
      "    parameter_id: \"decay_rate\"\n",
      "    double_value_spec {\n",
      "      min_value: 0.793232154398783\n",
      "      max_value: 0.999\n",
      "    }\n",
      "    scale_type: UNIT_LINEAR_SCALE\n",
      "  }\n",
      "  parameters {\n",
      "    parameter_id: \"batch_momentum\"\n",
      "    double_value_spec {\n",
      "      min_value: 0.6\n",
      "      max_value: 0.95\n",
      "    }\n",
      "    scale_type: UNIT_LINEAR_SCALE\n",
      "  }\n",
      "  parameters {\n",
      "    parameter_id: \"learning_rate\"\n",
      "    double_value_spec {\n",
      "      min_value: 0.0005250000000000001\n",
      "      max_value: 0.001\n",
      "    }\n",
      "    scale_type: UNIT_LOG_SCALE\n",
      "  }\n",
      "  parameters {\n",
      "    parameter_id: \"batch_size_ratio\"\n",
      "    double_value_spec {\n",
      "      min_value: 0.21264181409746452\n",
      "      max_value: 0.6\n",
      "    }\n",
      "    scale_type: UNIT_LINEAR_SCALE\n",
      "  }\n",
      "  parameters {\n",
      "    parameter_id: \"sparsity_loss_weight\"\n",
      "    double_value_spec {\n",
      "      min_value: 5e-05\n",
      "      max_value: 0.5\n",
      "    }\n",
      "    scale_type: UNIT_LOG_SCALE\n",
      "  }\n",
      "  parameters {\n",
      "    parameter_id: \"batch_size\"\n",
      "    integer_value_spec {\n",
      "      min_value: 512\n",
      "      max_value: 52361\n",
      "    }\n",
      "    scale_type: UNIT_LINEAR_SCALE\n",
      "  }\n",
      "  parameters {\n",
      "    parameter_id: \"class_weight\"\n",
      "    double_value_spec {\n",
      "      min_value: 0.2\n",
      "      max_value: 0.7\n",
      "    }\n",
      "    scale_type: UNIT_LOG_SCALE\n",
      "  }\n",
      "}\n",
      "max_trial_count: 420\n",
      "parallel_trial_count: 30\n",
      "max_failed_trial_count: 10\n",
      "trial_job_spec {\n",
      "  worker_pool_specs {\n",
      "    machine_spec {\n",
      "      machine_type: \"n1-highmem-16\"\n",
      "      accelerator_type: NVIDIA_TESLA_T4\n",
      "      accelerator_count: 1\n",
      "    }\n",
      "    replica_count: 1\n",
      "    disk_spec {\n",
      "      boot_disk_type: \"pd-ssd\"\n",
      "      boot_disk_size_gb: 100\n",
      "    }\n",
      "    container_spec {\n",
      "      image_uri: \"gcr.io/tabnet-309522/tab_net_v2@sha256:9a3547b99efce4a7c510f9eb9dd246524de1978a016e2c42534855a770adf4c1\"\n",
      "      args: \"--eval_frequency_secs=3600000\"\n",
      "      args: \"--num_parallel_reads=4\"\n",
      "      args: \"--optimizer_type=adam\"\n",
      "      args: \"--data_cache=disk\"\n",
      "      args: \"--stream_inputs\"\n",
      "      args: \"--job-dir=gs://tabnet-poc-cost-optimization/ato_risk_v1_n1-highmem-16_NVIDIA_TESLA_T4_x1_20220801_182857/\"\n",
      "      args: \"--training_data_path=sungyong-internship.uber_dataset.ato_risk_v1_split_train\"\n",
      "      args: \"--validation_data_path=sungyong-internship.uber_dataset.ato_risk_v1_split_valid\"\n",
      "      args: \"--test_data_path=sungyong-internship.uber_dataset.ato_risk_v1_test\"\n",
      "      args: \"--input_metadata_path=gs://tabnet-poc-cost-optimization/metadata/ato_risk_v1_train_metadata.json\"\n",
      "      args: \"--input_type=bigquery\"\n",
      "      args: \"--model_type=classification\"\n",
      "      args: \"--target_column=did_order\"\n",
      "    }\n",
      "  }\n",
      "}\n",
      "state: JOB_STATE_PENDING\n",
      "create_time {\n",
      "  seconds: 1659378537\n",
      "  nanos: 841198000\n",
      "}\n",
      "update_time {\n",
      "  seconds: 1659378537\n",
      "  nanos: 841198000\n",
      "}\n",
      "\n"
     ]
    }
   ],
   "source": [
    "#ato_risk cost optimized - CPU\n",
    "#create_hyperparameter_tuning_job(\"ato_risk_v1\",replica_count=1,max_trial_count=400,parallel_trial_count=20,max_failed_trial_count=10,machine_spec={\"machine_type\": \"e2-highmem-16\"})\n",
    "\n",
    "#ato_risk balanced - CPU\n",
    "#create_hyperparameter_tuning_job(\"ato_risk_v1\",replica_count=1,max_trial_count=400,parallel_trial_count=20,max_failed_trial_count=10,machine_spec={\"machine_type\": \"c2-standard-16\"})\n",
    "\n",
    "#ato_risk performance\n",
    "#create_hyperparameter_tuning_job(\"ato_risk_v1\",replica_count=1,max_trial_count=400,parallel_trial_count=20,max_failed_trial_count=10,machine_spec={\"machine_type\": \"n1-highmem-16\",\"accelerator_type\": \"NVIDIA_TESLA_V100\",\"accelerator_count\": 2})\n",
    "\n",
    "#ato risk cost optimized - GPU\n",
    "#create_hyperparameter_tuning_job(\"ato_risk_v1\",replica_count=1,max_trial_count=420,parallel_trial_count=30,max_failed_trial_count=10,machine_spec={\"machine_type\": \"n1-highmem-16\",\"accelerator_type\": \"NVIDIA_TESLA_T4\",\"accelerator_count\": 1})\n",
    "\n",
    "\n"
   ]
  },
  {
   "cell_type": "markdown",
   "metadata": {},
   "source": [
    "### long_trips"
   ]
  },
  {
   "cell_type": "code",
   "execution_count": 635,
   "metadata": {},
   "outputs": [],
   "source": [
    "#long_trips cost optimized - CPU\n",
    "#create_hyperparameter_tuning_job(\"long_trips\",replica_count=1,max_trial_count=400,parallel_trial_count=20,max_failed_trial_count=10,machine_spec={\"machine_type\": \"e2-highmem-16\"},study_spec=ltss,use_legacy_aip=True)\n",
    "\n",
    "#long_trips balanced - CPU - NOT SUPPORTED in Legacy AIP\n",
    "#create_hyperparameter_tuning_job(\"long_trips\",replica_count=1,max_trial_count=400,parallel_trial_count=20,max_failed_trial_count=10,machine_spec={\"machine_type\": \"c2-highmem-16\"},study_spec=ltss,use_legacy_aip=True)\n",
    "\n",
    "#long_trips cost_optimized - GPU - 1 x T4 - Only 12 T4s in AIP\n",
    "#create_hyperparameter_tuning_job(\"long_trips\",replica_count=1,max_trial_count=396,parallel_trial_count=12,max_failed_trial_count=10,machine_spec={\"machine_type\": \"n1-highmem-16\",\"accelerator_type\": \"NVIDIA_TESLA_T4\",\"accelerator_count\": 1},study_spec=ltss,use_legacy_aip=True)\n",
    "\n",
    "#long_trips performance - GPU - 2 x v100\n",
    "#create_hyperparameter_tuning_job(\"long_trips\",replica_count=1,max_trial_count=400,parallel_trial_count=20,max_failed_trial_count=10,machine_spec={\"machine_type\": \"n1-highmem-16\",\"accelerator_type\": \"NVIDIA_TESLA_V100\",\"accelerator_count\": 2},study_spec=ltss,use_legacy_aip=True)\n",
    "\n",
    "#long_trips performance - A100\n",
    "create_hyperparameter_tuning_job(\"long_trips\",replica_count=1,max_trial_count=400,parallel_trial_count=20,max_failed_trial_count=10,machine_spec={\"machine_type\": \"a2-highgpu-1g\",\"accelerator_type\": \"NVIDIA_TESLA_A100\",\"accelerator_count\": 1},study_spec=ltss,use_legacy_aip=True)\n",
    "\n"
   ]
  },
  {
   "cell_type": "code",
   "execution_count": 232,
   "metadata": {},
   "outputs": [
    {
     "name": "stdout",
     "output_type": "stream",
     "text": [
      "CommandException: \"mb\" command does not support \"file://\" URLs. Did you mean to use a gs:// URL?\n"
     ]
    }
   ],
   "source": [
    "!gsutil mb 'gs:/tabnet-poc-cost-optimization/eats_home_feed_ranking_n1-highmem-8_NVIDIA_TESLA_V100_x2'"
   ]
  },
  {
   "cell_type": "code",
   "execution_count": null,
   "metadata": {},
   "outputs": [],
   "source": [
    "metrics = RunCustomJob('100-T4','n1-standard-8','NVIDIA_TESLA_T4',2)\n"
   ]
  },
  {
   "cell_type": "markdown",
   "metadata": {
    "id": "Qzn5lVpRq05U"
   },
   "source": [
    "### Set configuration parameters for running trials\n",
    "\n",
    "__`client_id`__: The identifier of the client that is requesting the suggestion. If multiple SuggestTrialsRequests have the same `client_id`, the service will return the identical suggested trial if the trial is `PENDING`, and provide a new trial if the last suggested trial was completed.\n",
    "\n",
    "__`suggestion_count_per_request`__: The number of suggestions (trials) requested in a single request.\n",
    "\n",
    "__`max_trial_id_to_stop`__: The number of trials to explore before stopping. It is set to 4 to shorten the time to run the code, so don't expect convergence. For convergence, it would likely need to be about 20 (a good rule of thumb is to multiply the total dimensionality by 10).\n"
   ]
  },
  {
   "cell_type": "code",
   "execution_count": 461,
   "metadata": {
    "id": "5usXaZA5qvUZ"
   },
   "outputs": [
    {
     "name": "stdout",
     "output_type": "stream",
     "text": [
      "client_id: Vertex Workbench Client\n",
      "suggestion_count_per_request: 1\n",
      "max_trial_id_to_stop: 10\n"
     ]
    }
   ],
   "source": [
    "client_id = \"Vertex Workbench Client\"  # @param {type: 'string'}\n",
    "suggestion_count_per_request = 1  # @param {type: 'integer'}\n",
    "max_trial_id_to_stop = 10  # @param {type: 'integer'}\n",
    "\n",
    "print(\"client_id: {}\".format(client_id))\n",
    "print(\"suggestion_count_per_request: {}\".format(suggestion_count_per_request))\n",
    "print(\"max_trial_id_to_stop: {}\".format(max_trial_id_to_stop))"
   ]
  },
  {
   "cell_type": "markdown",
   "metadata": {
    "id": "UnV2SJNskm7V"
   },
   "source": [
    "### Run Vertex Vizier trials\n",
    "\n",
    "Run the trials."
   ]
  },
  {
   "cell_type": "code",
   "execution_count": 464,
   "metadata": {
    "id": "opmuTntW4-eS"
   },
   "outputs": [
    {
     "name": "stdout",
     "output_type": "stream",
     "text": [
      "Trial : machine_type is n1-standard-4, gpu_type is NVIDIA_TESLA_T4, gpu_count is 2.0.\n",
      "=========== Start Trial: [1] =============\n"
     ]
    },
    {
     "name": "stderr",
     "output_type": "stream",
     "text": [
      "E0519 15:43:09.160064325   21151 fork_posix.cc:70]           Fork support is only compatible with the epoll1 and poll polling strategies\n",
      "E0519 15:51:41.911130468   21151 fork_posix.cc:70]           Fork support is only compatible with the epoll1 and poll polling strategies\n",
      "E0519 15:51:43.381916601   21151 fork_posix.cc:70]           Fork support is only compatible with the epoll1 and poll polling strategies\n"
     ]
    },
    {
     "name": "stdout",
     "output_type": "stream",
     "text": [
      "Trial : machine_type is n1-standard-4, gpu_type is NVIDIA_TESLA_K80, gpu_count is 2.0.\n",
      "=========== Start Trial: [2] =============\n"
     ]
    },
    {
     "name": "stderr",
     "output_type": "stream",
     "text": [
      "E0519 15:51:46.194349494   21151 fork_posix.cc:70]           Fork support is only compatible with the epoll1 and poll polling strategies\n",
      "E0519 16:01:49.073136445   21151 fork_posix.cc:70]           Fork support is only compatible with the epoll1 and poll polling strategies\n",
      "E0519 16:01:50.544098369   21151 fork_posix.cc:70]           Fork support is only compatible with the epoll1 and poll polling strategies\n"
     ]
    },
    {
     "name": "stdout",
     "output_type": "stream",
     "text": [
      "Trial : machine_type is n1-standard-4, gpu_type is NVIDIA_TESLA_T4, gpu_count is 4.0.\n",
      "=========== Start Trial: [3] =============\n"
     ]
    },
    {
     "name": "stderr",
     "output_type": "stream",
     "text": [
      "E0519 16:01:59.082182048   21151 fork_posix.cc:70]           Fork support is only compatible with the epoll1 and poll polling strategies\n",
      "E0519 16:15:33.580464486   21151 fork_posix.cc:70]           Fork support is only compatible with the epoll1 and poll polling strategies\n",
      "E0519 16:15:34.691489531   21151 fork_posix.cc:70]           Fork support is only compatible with the epoll1 and poll polling strategies\n"
     ]
    },
    {
     "name": "stdout",
     "output_type": "stream",
     "text": [
      "Trial : machine_type is n1-standard-8, gpu_type is NVIDIA_TESLA_P4, gpu_count is 2.0.\n",
      "=========== Start Trial: [4] =============\n"
     ]
    },
    {
     "name": "stderr",
     "output_type": "stream",
     "text": [
      "E0519 16:15:45.085159833   21151 fork_posix.cc:70]           Fork support is only compatible with the epoll1 and poll polling strategies\n",
      "E0519 16:24:47.975833812   21151 fork_posix.cc:70]           Fork support is only compatible with the epoll1 and poll polling strategies\n",
      "E0519 16:24:49.549004013   21151 fork_posix.cc:70]           Fork support is only compatible with the epoll1 and poll polling strategies\n"
     ]
    },
    {
     "name": "stdout",
     "output_type": "stream",
     "text": [
      "Trial : machine_type is n1-standard-8, gpu_type is NVIDIA_TESLA_T4, gpu_count is 2.0.\n",
      "=========== Start Trial: [5] =============\n"
     ]
    },
    {
     "name": "stderr",
     "output_type": "stream",
     "text": [
      "E0519 16:24:55.473171404   21151 fork_posix.cc:70]           Fork support is only compatible with the epoll1 and poll polling strategies\n",
      "E0519 16:32:58.002507311   21151 fork_posix.cc:70]           Fork support is only compatible with the epoll1 and poll polling strategies\n",
      "E0519 16:32:59.125995444   21151 fork_posix.cc:70]           Fork support is only compatible with the epoll1 and poll polling strategies\n"
     ]
    },
    {
     "name": "stdout",
     "output_type": "stream",
     "text": [
      "Trial : machine_type is n1-standard-8, gpu_type is NVIDIA_TESLA_P100, gpu_count is 2.0.\n",
      "=========== Start Trial: [6] =============\n"
     ]
    },
    {
     "name": "stderr",
     "output_type": "stream",
     "text": [
      "E0519 16:33:04.594049939   21151 fork_posix.cc:70]           Fork support is only compatible with the epoll1 and poll polling strategies\n",
      "E0519 16:41:07.024582640   21151 fork_posix.cc:70]           Fork support is only compatible with the epoll1 and poll polling strategies\n",
      "E0519 16:41:08.131228042   21151 fork_posix.cc:70]           Fork support is only compatible with the epoll1 and poll polling strategies\n"
     ]
    },
    {
     "name": "stdout",
     "output_type": "stream",
     "text": [
      "Trial : machine_type is n1-standard-8, gpu_type is NVIDIA_TESLA_T4, gpu_count is 4.0.\n",
      "=========== Start Trial: [7] =============\n"
     ]
    },
    {
     "name": "stderr",
     "output_type": "stream",
     "text": [
      "E0519 16:41:16.639021317   21151 fork_posix.cc:70]           Fork support is only compatible with the epoll1 and poll polling strategies\n"
     ]
    },
    {
     "ename": "KeyboardInterrupt",
     "evalue": "",
     "output_type": "error",
     "traceback": [
      "\u001b[0;31m---------------------------------------------------------------------------\u001b[0m",
      "\u001b[0;31mKeyboardInterrupt\u001b[0m                         Traceback (most recent call last)",
      "\u001b[0;32m/tmp/ipykernel_21151/2316097719.py\u001b[0m in \u001b[0;36m<module>\u001b[0;34m\u001b[0m\n\u001b[1;32m     25\u001b[0m         \u001b[0mprint\u001b[0m\u001b[0;34m(\u001b[0m\u001b[0;34mf\"Trial : machine_type is {machine_type}, gpu_type is {gpu_type}, gpu_count is {gpu_count}.\"\u001b[0m\u001b[0;34m)\u001b[0m\u001b[0;34m\u001b[0m\u001b[0;34m\u001b[0m\u001b[0m\n\u001b[1;32m     26\u001b[0m \u001b[0;34m\u001b[0m\u001b[0m\n\u001b[0;32m---> 27\u001b[0;31m         \u001b[0mmetrics\u001b[0m \u001b[0;34m=\u001b[0m \u001b[0mRunCustomJob\u001b[0m\u001b[0;34m(\u001b[0m\u001b[0mtrial_id\u001b[0m\u001b[0;34m,\u001b[0m \u001b[0mmachine_type\u001b[0m\u001b[0;34m,\u001b[0m \u001b[0mgpu_type\u001b[0m\u001b[0;34m,\u001b[0m \u001b[0mint\u001b[0m\u001b[0;34m(\u001b[0m\u001b[0mgpu_count\u001b[0m\u001b[0;34m)\u001b[0m\u001b[0;34m)\u001b[0m\u001b[0;34m\u001b[0m\u001b[0;34m\u001b[0m\u001b[0m\n\u001b[0m\u001b[1;32m     28\u001b[0m \u001b[0;34m\u001b[0m\u001b[0m\n\u001b[1;32m     29\u001b[0m         vizier_client.add_trial_measurement(\n",
      "\u001b[0;32m/tmp/ipykernel_21151/327086677.py\u001b[0m in \u001b[0;36mRunCustomJob\u001b[0;34m(trial_id, machine_type, accelerator_type, accelerator_count)\u001b[0m\n\u001b[1;32m     90\u001b[0m \u001b[0;34m\u001b[0m\u001b[0m\n\u001b[1;32m     91\u001b[0m     \u001b[0;32mwhile\u001b[0m \u001b[0mresponse\u001b[0m\u001b[0;34m.\u001b[0m\u001b[0mstate\u001b[0m\u001b[0;34m.\u001b[0m\u001b[0mname\u001b[0m \u001b[0;32mnot\u001b[0m \u001b[0;32min\u001b[0m \u001b[0;34m(\u001b[0m\u001b[0;34m'JOB_STATE_SUCCEEDED'\u001b[0m\u001b[0;34m,\u001b[0m \u001b[0;34m'JOB_STATE_FAILED'\u001b[0m\u001b[0;34m,\u001b[0m\u001b[0;34m'JOB_STATE_CANCELLED'\u001b[0m\u001b[0;34m)\u001b[0m\u001b[0;34m:\u001b[0m\u001b[0;34m\u001b[0m\u001b[0;34m\u001b[0m\u001b[0m\n\u001b[0;32m---> 92\u001b[0;31m         \u001b[0msleep\u001b[0m\u001b[0;34m(\u001b[0m\u001b[0;36m30\u001b[0m\u001b[0;34m)\u001b[0m\u001b[0;34m\u001b[0m\u001b[0;34m\u001b[0m\u001b[0m\n\u001b[0m\u001b[1;32m     93\u001b[0m         \u001b[0mresponse\u001b[0m \u001b[0;34m=\u001b[0m \u001b[0mclient\u001b[0m\u001b[0;34m.\u001b[0m\u001b[0mget_custom_job\u001b[0m\u001b[0;34m(\u001b[0m\u001b[0mname\u001b[0m\u001b[0;34m=\u001b[0m\u001b[0mresponse\u001b[0m\u001b[0;34m.\u001b[0m\u001b[0mname\u001b[0m\u001b[0;34m)\u001b[0m\u001b[0;34m\u001b[0m\u001b[0;34m\u001b[0m\u001b[0m\n\u001b[1;32m     94\u001b[0m \u001b[0;34m\u001b[0m\u001b[0m\n",
      "\u001b[0;31mKeyboardInterrupt\u001b[0m: "
     ]
    }
   ],
   "source": [
    "trial_id = 0\n",
    "while int(trial_id) < max_trial_id_to_stop:\n",
    "    suggest_response = vizier_client.suggest_trials(\n",
    "        {\n",
    "            \"parent\": STUDY_ID,\n",
    "            \"suggestion_count\": suggestion_count_per_request,\n",
    "            \"client_id\": client_id,\n",
    "        }\n",
    "    )\n",
    "\n",
    "    for suggested_trial in suggest_response.result().trials:\n",
    "        trial_id = suggested_trial.name.split(\"/\")[-1]\n",
    "        trial = vizier_client.get_trial({\"name\": suggested_trial.name})\n",
    "\n",
    "        if trial.state in [\"COMPLETED\", \"INFEASIBLE\"]:\n",
    "            continue\n",
    "\n",
    "        for param in trial.parameters:\n",
    "            if param.parameter_id == \"machine_type\":\n",
    "                machine_type = param.value\n",
    "            elif param.parameter_id == \"gpu_type\":\n",
    "                gpu_type = param.value\n",
    "            elif param.parameter_id == \"gpu_count\":\n",
    "                gpu_count = param.value\n",
    "        print(f\"Trial : machine_type is {machine_type}, gpu_type is {gpu_type}, gpu_count is {gpu_count}.\")\n",
    "        \n",
    "        metrics = RunCustomJob(trial_id, machine_type, gpu_type, int(gpu_count))\n",
    "\n",
    "        vizier_client.add_trial_measurement(\n",
    "            {\n",
    "                \"trial_name\": suggested_trial.name,\n",
    "                \"measurement\": {\n",
    "                    \"metrics\": metrics\n",
    "                },\n",
    "            }\n",
    "        )\n",
    "        response = vizier_client.complete_trial(\n",
    "            {\"name\": suggested_trial.name, \"trial_infeasible\": False}\n",
    "        )"
   ]
  },
  {
   "cell_type": "markdown",
   "metadata": {
    "id": "i5ZTqgqBiRsq"
   },
   "source": [
    "### List the optimal solutions\n",
    "\n",
    "list_optimal_trials returns the pareto-optimal Trials for multi-objective Study or the optimal Trials for single-objective Study. In the case, we define mutliple-objective in previeous steps, pareto-optimal trials will be returned."
   ]
  },
  {
   "cell_type": "code",
   "execution_count": 440,
   "metadata": {
    "id": "Or2PL1YxTr33"
   },
   "outputs": [
    {
     "name": "stdout",
     "output_type": "stream",
     "text": [
      "optimal_trials: optimal_trials {\n",
      "  name: \"projects/497728924767/locations/us-central1/studies/2246293698204/trials/2\"\n",
      "  state: SUCCEEDED\n",
      "  parameters {\n",
      "    parameter_id: \"gpu_count\"\n",
      "    value {\n",
      "      number_value: 1.0\n",
      "    }\n",
      "  }\n",
      "  parameters {\n",
      "    parameter_id: \"gpu_type\"\n",
      "    value {\n",
      "      string_value: \"NVIDIA_TESLA_P4\"\n",
      "    }\n",
      "  }\n",
      "  parameters {\n",
      "    parameter_id: \"machine_type\"\n",
      "    value {\n",
      "      string_value: \"n1-standard-4\"\n",
      "    }\n",
      "  }\n",
      "  final_measurement {\n",
      "    metrics {\n",
      "      metric_id: \"training_time\"\n",
      "      value: 0.016666666666666666\n",
      "    }\n",
      "    metrics {\n",
      "      metric_id: \"estimated_training_cost\"\n",
      "      value: 0.0151416475\n",
      "    }\n",
      "    metrics {\n",
      "      metric_id: \"average_gpu_utilization\"\n",
      "      value: -1.0\n",
      "    }\n",
      "  }\n",
      "  measurements {\n",
      "    metrics {\n",
      "      metric_id: \"training_time\"\n",
      "      value: 0.016666666666666666\n",
      "    }\n",
      "    metrics {\n",
      "      metric_id: \"estimated_training_cost\"\n",
      "      value: 0.0151416475\n",
      "    }\n",
      "    metrics {\n",
      "      metric_id: \"average_gpu_utilization\"\n",
      "      value: -1.0\n",
      "    }\n",
      "  }\n",
      "  start_time {\n",
      "    seconds: 1652907715\n",
      "  }\n",
      "  end_time {\n",
      "    seconds: 1652908414\n",
      "  }\n",
      "  client_id: \"Vertex Workbench Client\"\n",
      "}\n",
      "optimal_trials {\n",
      "  name: \"projects/497728924767/locations/us-central1/studies/2246293698204/trials/10\"\n",
      "  state: SUCCEEDED\n",
      "  parameters {\n",
      "    parameter_id: \"gpu_count\"\n",
      "    value {\n",
      "      number_value: 1.0\n",
      "    }\n",
      "  }\n",
      "  parameters {\n",
      "    parameter_id: \"gpu_type\"\n",
      "    value {\n",
      "      string_value: \"NVIDIA_TESLA_T4\"\n",
      "    }\n",
      "  }\n",
      "  parameters {\n",
      "    parameter_id: \"machine_type\"\n",
      "    value {\n",
      "      string_value: \"n1-standard-8\"\n",
      "    }\n",
      "  }\n",
      "  final_measurement {\n",
      "    metrics {\n",
      "      metric_id: \"training_time\"\n",
      "      value: 0.016944444444444446\n",
      "    }\n",
      "    metrics {\n",
      "      metric_id: \"estimated_training_cost\"\n",
      "      value: 0.01422482213888889\n",
      "    }\n",
      "    metrics {\n",
      "      metric_id: \"average_gpu_utilization\"\n",
      "      value: -1.0\n",
      "    }\n",
      "  }\n",
      "  measurements {\n",
      "    metrics {\n",
      "      metric_id: \"training_time\"\n",
      "      value: 0.016944444444444446\n",
      "    }\n",
      "    metrics {\n",
      "      metric_id: \"estimated_training_cost\"\n",
      "      value: 0.01422482213888889\n",
      "    }\n",
      "    metrics {\n",
      "      metric_id: \"average_gpu_utilization\"\n",
      "      value: -1.0\n",
      "    }\n",
      "  }\n",
      "  start_time {\n",
      "    seconds: 1652910876\n",
      "  }\n",
      "  end_time {\n",
      "    seconds: 1652911516\n",
      "  }\n",
      "  client_id: \"Vertex Workbench Client\"\n",
      "}\n",
      "\n"
     ]
    }
   ],
   "source": [
    "optimal_trials = vizier_client.list_optimal_trials({\"parent\": STUDY_ID})\n",
    "\n",
    "print(\"optimal_trials: {}\".format(optimal_trials))"
   ]
  },
  {
   "cell_type": "markdown",
   "metadata": {
    "id": "KAxfq9Fri2YV"
   },
   "source": [
    "## Cleaning up\n",
    "\n",
    "To clean up all Google Cloud resources used in this project, you can [delete the Google Cloud\n",
    "project](https://cloud.google.com/resource-manager/docs/creating-managing-projects#shutting_down_projects) you used for the tutorial. You can also manually delete resources that you created by running the following code."
   ]
  },
  {
   "cell_type": "code",
   "execution_count": null,
   "metadata": {
    "id": "zQlLDfvlzYde"
   },
   "outputs": [],
   "source": [
    "vizier_client.delete_study({\"name\": STUDY_ID})"
   ]
  }
 ],
 "metadata": {
  "colab": {
   "collapsed_sections": [],
   "name": "gapic-vizier-multi-objective-optimization.ipynb",
   "toc_visible": true
  },
  "environment": {
   "kernel": "python3",
   "name": "tf2-gpu.2-8.m92",
   "type": "gcloud",
   "uri": "gcr.io/deeplearning-platform-release/tf2-gpu.2-8:m92"
  },
  "kernelspec": {
   "display_name": "Python 3",
   "language": "python",
   "name": "python3"
  },
  "language_info": {
   "codemirror_mode": {
    "name": "ipython",
    "version": 3
   },
   "file_extension": ".py",
   "mimetype": "text/x-python",
   "name": "python",
   "nbconvert_exporter": "python",
   "pygments_lexer": "ipython3",
   "version": "3.7.12"
  }
 },
 "nbformat": 4,
 "nbformat_minor": 4
}
