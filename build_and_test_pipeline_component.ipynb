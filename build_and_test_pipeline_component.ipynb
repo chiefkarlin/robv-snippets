{
 "cells": [
  {
   "cell_type": "markdown",
   "id": "a35bbff9-9fa4-45ac-a405-433ce170f286",
   "metadata": {},
   "source": [
    "### Using a custom base image for pipeline component\n",
    "The following example shows how to use a custom docker image as the base image for a custom python-based component which includes additional source artifacts to reference from the pipeline component.\n"
   ]
  },
  {
   "cell_type": "markdown",
   "id": "7bd8cc1f-43cd-4e8a-b6ab-5e9dded119cb",
   "metadata": {},
   "source": [
    "First, lets create a `scripts` directory to contain our shell script"
   ]
  },
  {
   "cell_type": "code",
   "execution_count": 1,
   "id": "48f1e26f-8f5f-4d78-ade3-73c40c543082",
   "metadata": {},
   "outputs": [],
   "source": [
    "!mkdir scripts"
   ]
  },
  {
   "cell_type": "markdown",
   "id": "fcdf4557-a3e0-45b9-8d6e-d069f0677f6d",
   "metadata": {},
   "source": [
    "Next, lets create a simple shell script that echo's back the parameter we pass to it"
   ]
  },
  {
   "cell_type": "code",
   "execution_count": 2,
   "id": "2f00bd28-d384-4f73-aa5f-5b9884c66676",
   "metadata": {},
   "outputs": [
    {
     "name": "stdout",
     "output_type": "stream",
     "text": [
      "Writing scripts/hello-robot.sh\n"
     ]
    }
   ],
   "source": [
    "%%writefile scripts/hello-robot.sh\n",
    "#!/bin/bash\n",
    "echo \"Hello, $1.  Nice to meet you\""
   ]
  },
  {
   "cell_type": "code",
   "execution_count": 17,
   "id": "a88467b4-3183-425e-8ed6-7f8d7cbba9f5",
   "metadata": {
    "tags": []
   },
   "outputs": [],
   "source": [
    "!chmod +x scripts/hello-robot.sh"
   ]
  },
  {
   "cell_type": "code",
   "execution_count": 2,
   "id": "a970ee82-ca7b-44dd-a4c2-332c1e3c4e1d",
   "metadata": {},
   "outputs": [
    {
     "data": {
      "text/plain": [
       "'Hello, robv.  Nice to meet you\\n'"
      ]
     },
     "execution_count": 2,
     "metadata": {},
     "output_type": "execute_result"
    }
   ],
   "source": [
    "import subprocess\n",
    "output = subprocess.run(['scripts/hello-robot.sh','robv'],capture_output=True)\n",
    "output.stdout.decode('utf-8')"
   ]
  },
  {
   "cell_type": "markdown",
   "id": "d4c02fad-b3d4-4eb0-86d1-3a1834cc0eda",
   "metadata": {},
   "source": [
    "Now, lets create a simple Dockerfile based off the `google-cloud-cli` image"
   ]
  },
  {
   "cell_type": "code",
   "execution_count": 3,
   "id": "8bb27379-6ffa-45b2-94dd-27f7017a61bd",
   "metadata": {},
   "outputs": [
    {
     "name": "stdout",
     "output_type": "stream",
     "text": [
      "Overwriting Dockerfile\n"
     ]
    }
   ],
   "source": [
    "%%writefile Dockerfile\n",
    "FROM gcr.io/google.com/cloudsdktool/google-cloud-cli:latest\n",
    "COPY ./scripts /scripts\n",
    "RUN chmod -R +x /scripts"
   ]
  },
  {
   "cell_type": "markdown",
   "id": "4a32a895-77a2-4fd3-9922-1410d312db7a",
   "metadata": {
    "id": "gar_enable_api",
    "tags": []
   },
   "source": [
    "Ensure the Artifact Registry API service is enabled for your project\n",
    "\n",
    "Learn more about [Enabling service](https://cloud.google.com/artifact-registry/docs/enable-service)."
   ]
  },
  {
   "cell_type": "code",
   "execution_count": 4,
   "id": "f7561b25-4a93-4895-9156-0a89535f37f9",
   "metadata": {
    "id": "gar_enable_api"
   },
   "outputs": [],
   "source": [
    "! gcloud services enable artifactregistry.googleapis.com"
   ]
  },
  {
   "cell_type": "markdown",
   "id": "220d87e3-be46-4434-9221-cf96ea216e28",
   "metadata": {
    "id": "gar_create_repo"
   },
   "source": [
    "### Create a private Docker repository\n",
    "\n",
    "Next, create your own Docker repository in the Google Artifact Registry.\n",
    "\n",
    "1. Run the `gcloud artifacts repositories create` command to create a new Docker repository with your region with the description \"docker repository\".\n",
    "\n",
    "2. Run the `gcloud artifacts repositories list` command to verify that your repository was created."
   ]
  },
  {
   "cell_type": "code",
   "execution_count": 5,
   "id": "c4d6e7fa-9076-45d8-89c0-b9843393fbd4",
   "metadata": {
    "id": "gar_create_repo"
   },
   "outputs": [
    {
     "name": "stdout",
     "output_type": "stream",
     "text": [
      "\u001b[1;31mERROR:\u001b[0m (gcloud.artifacts.repositories.create) ALREADY_EXISTS: the repository already exists\n",
      "Listing items under project gcp-ml-sandbox, location us-central1.\n",
      "\n",
      "                                                                                            ARTIFACT_REGISTRY\n",
      "REPOSITORY                       FORMAT  MODE                 DESCRIPTION                                    LOCATION     LABELS  ENCRYPTION          CREATE_TIME          UPDATE_TIME          SIZE (MB)\n",
      "custom-container-prediction-sdk  DOCKER  STANDARD_REPOSITORY                                                 us-central1          Google-managed key  2022-09-28T17:33:04  2022-11-11T23:04:06  560.739\n",
      "docker-ray-repo                  DOCKER  STANDARD_REPOSITORY                                                 us-central1          Google-managed key  2022-02-15T21:39:45  2022-02-15T22:44:23  2985.346\n",
      "docker-repo                      DOCKER  STANDARD_REPOSITORY                                                 us-central1          Google-managed key  2021-06-07T16:53:06  2022-07-25T19:50:54  2481.024\n",
      "loan-eligiability-spark-demo     DOCKER  STANDARD_REPOSITORY  loan eligibility spark docker repository       us-central1          Google-managed key  2022-10-10T20:08:51  2022-10-10T20:46:09  427.490\n",
      "nvidia-triton                    DOCKER  STANDARD_REPOSITORY  NVIDIA Triton Docker repository                us-central1          Google-managed key  2022-08-05T17:23:25  2022-08-24T19:39:18  13355.884\n",
      "pipeline-components              DOCKER  STANDARD_REPOSITORY  Images for custom pipeline components          us-central1          Google-managed key  2023-05-17T16:18:21  2023-05-17T16:35:07  1171.896\n",
      "quickstart-kfp-repo              KFP     STANDARD_REPOSITORY  kfp-template-repo                              us-central1          Google-managed key  2022-10-21T19:50:52  2022-10-21T19:58:42  0.010\n",
      "quickstart-python-repo           PYTHON  STANDARD_REPOSITORY  Python package repository                      us-central1          Google-managed key  2023-01-17T16:30:11  2023-01-17T17:22:10  0.009\n",
      "ray-ml                           DOCKER  STANDARD_REPOSITORY                                                 us-central1          Google-managed key  2022-03-07T16:30:06  2022-08-23T22:51:04  18448.873\n",
      "torchrun-imagenet-repo           DOCKER  STANDARD_REPOSITORY  Docker repository                              us-central1          Google-managed key  2022-12-08T16:02:58  2023-03-31T05:37:46  32530.522\n",
      "varian-ray-repo                  DOCKER  STANDARD_REPOSITORY                                                 us-central1          Google-managed key  2022-02-15T23:13:48  2022-02-16T22:31:46  13496.837\n",
      "vertex-custom-containers         DOCKER  STANDARD_REPOSITORY  Image repository for Vertex custom containers  us-central1          Google-managed key  2022-09-23T20:15:16  2023-03-24T14:11:59  17176.408\n",
      "workbench                        DOCKER  STANDARD_REPOSITORY                                                 us-central1          Google-managed key  2022-07-21T19:37:31  2022-07-26T19:46:55  6496.577\n",
      "workbench-test                   DOCKER  STANDARD_REPOSITORY                                                 us-central1          Google-managed key  2022-07-26T17:49:59  2022-09-08T14:59:50  15585.002\n"
     ]
    }
   ],
   "source": [
    "PRIVATE_REPO = \"pipeline-components\"\n",
    "\n",
    "!gcloud artifacts repositories create {PRIVATE_REPO} --location='us-central1' --project='gcp-ml-sandbox' --repository-format=docker  --description=\"Images for custom pipeline components\"\n",
    "!gcloud artifacts repositories list"
   ]
  },
  {
   "cell_type": "markdown",
   "id": "7665672b-09b9-4230-ba88-9af91de66bdc",
   "metadata": {
    "id": "gar_auth"
   },
   "source": [
    "### Configure authentication to your private repo\n",
    "\n",
    "Before you push or pull container images, configure Docker to use the `gcloud` command-line tool to authenticate requests to `Artifact Registry` for your region."
   ]
  },
  {
   "cell_type": "code",
   "execution_count": 6,
   "id": "19ccb0e3-554b-4de0-a23c-caa95a8887ea",
   "metadata": {
    "id": "gar_auth"
   },
   "outputs": [
    {
     "name": "stdout",
     "output_type": "stream",
     "text": [
      "\u001b[1;33mWARNING:\u001b[0m Your config file at [/home/jupyter/.docker/config.json] contains these credential helper entries:\n",
      "\n",
      "{\n",
      "  \"credHelpers\": {\n",
      "    \"gcr.io\": \"gcloud\",\n",
      "    \"us.gcr.io\": \"gcloud\",\n",
      "    \"eu.gcr.io\": \"gcloud\",\n",
      "    \"asia.gcr.io\": \"gcloud\",\n",
      "    \"staging-k8s.gcr.io\": \"gcloud\",\n",
      "    \"marketplace.gcr.io\": \"gcloud\",\n",
      "    \"us-central1-docker.pkg.dev\": \"gcloud\"\n",
      "  }\n",
      "}\n",
      "Adding credentials for: us-centra1-docker.pkg.dev\n",
      "\u001b[1;33mWARNING:\u001b[0m us-centra1-docker.pkg.dev is not a supported registry\n",
      "gcloud credential helpers already registered correctly.\n"
     ]
    }
   ],
   "source": [
    "REGION='us-centra1'\n",
    "PROJECT_ID='gcp-ml-sandbox'\n",
    "! gcloud auth configure-docker {REGION}-docker.pkg.dev --quiet"
   ]
  },
  {
   "cell_type": "code",
   "execution_count": 7,
   "id": "a1b660ef-6383-441f-84a6-0918bcc3a701",
   "metadata": {},
   "outputs": [
    {
     "name": "stdout",
     "output_type": "stream",
     "text": [
      "Sending build context to Docker daemon  22.02kB\n",
      "Step 1/3 : FROM gcr.io/google.com/cloudsdktool/google-cloud-cli:latest\n",
      " ---> b91746661f9f\n",
      "Step 2/3 : COPY ./scripts /scripts\n",
      " ---> 2246f1025d7b\n",
      "Step 3/3 : RUN chmod -R +x /scripts\n",
      " ---> Running in 86c0a112823d\n",
      "Removing intermediate container 86c0a112823d\n",
      " ---> 4270a3320bb5\n",
      "Successfully built 4270a3320bb5\n",
      "Successfully tagged hello-robot:latest\n",
      "The push refers to repository [us-central1-docker.pkg.dev/gcp-ml-sandbox/pipeline-components/hello-robot]\n",
      "\n",
      "\u001b[1Babde3da1: Preparing \n",
      "\u001b[1B51c80e69: Preparing \n",
      "\u001b[1B92193e84: Preparing \n",
      "\u001b[1B99a01dc2: Preparing \n",
      "\u001b[1Ba1a58a66: Preparing \n",
      "\u001b[1Bbdf2613c: Preparing \n",
      "\u001b[1B709313e8: Preparing \n",
      "\u001b[8Babde3da1: Pushed lready exists \u001b[7A\u001b[2K\u001b[7A\u001b[2K\u001b[8A\u001b[2Klatest: digest: sha256:598690c477451a9f9c608c9d31d8d78bc18ed3dbdbe46653d885f695728851d7 size: 1996\n"
     ]
    }
   ],
   "source": [
    "### Build Docker image and push to artifact registry\n",
    "LOCAL_IMAGE='hello-robot'\n",
    "TAG=\"latest\"\n",
    "CONTAINER_NAME=f\"{LOCAL_IMAGE}:{TAG}\"\n",
    "REGION='us-central1'\n",
    "\n",
    "!docker build --tag {CONTAINER_NAME} -f Dockerfile .\n",
    "\n",
    "!docker tag {CONTAINER_NAME} {REGION}-docker.pkg.dev/{PROJECT_ID}/{PRIVATE_REPO}/{CONTAINER_NAME}\n",
    "!docker push {REGION}-docker.pkg.dev/{PROJECT_ID}/{PRIVATE_REPO}/{CONTAINER_NAME}\n"
   ]
  },
  {
   "cell_type": "markdown",
   "id": "0b70849e-4e7a-4e0b-b3ee-15a45216b88f",
   "metadata": {},
   "source": [
    "Let's test our image really quickly to ensure it does what we expect"
   ]
  },
  {
   "cell_type": "code",
   "execution_count": 8,
   "id": "0c91cb6c-baaf-40d3-ac2c-c3b9344ed6db",
   "metadata": {},
   "outputs": [
    {
     "name": "stdout",
     "output_type": "stream",
     "text": [
      "Hello, robv.  Nice to meet you\n"
     ]
    }
   ],
   "source": [
    "!docker run -it {CONTAINER_NAME} /scripts/hello-robot.sh robv"
   ]
  },
  {
   "cell_type": "code",
   "execution_count": 27,
   "id": "5696647e-8250-4c8f-ab18-3e83736843e5",
   "metadata": {},
   "outputs": [
    {
     "name": "stdout",
     "output_type": "stream",
     "text": [
      "Google Cloud SDK 431.0.0\n",
      "alpha 2023.05.12\n",
      "app-engine-go 1.9.75\n",
      "app-engine-java 2.0.14\n",
      "app-engine-python 1.9.104\n",
      "app-engine-python-extras 1.9.100\n",
      "beta 2023.05.12\n",
      "bigtable \n",
      "bq 2.0.92\n",
      "bundled-python3-unix 3.9.16\n",
      "cbt 0.15.0\n",
      "cloud-datastore-emulator 2.3.0\n",
      "cloud-firestore-emulator 1.17.4\n",
      "cloud-spanner-emulator 1.5.4\n",
      "core 2023.05.12\n",
      "gcloud-crc32c 1.0.0\n",
      "gke-gcloud-auth-plugin 0.5.3\n",
      "gsutil 5.23\n",
      "kpt 1.0.0-beta.31\n",
      "local-extract 1.5.8\n",
      "pubsub-emulator 0.8.2\n"
     ]
    }
   ],
   "source": [
    "!docker run -it {CONTAINER_NAME} gcloud --version"
   ]
  },
  {
   "cell_type": "markdown",
   "id": "6baaa835-aabf-4970-ab59-eae39e2042b4",
   "metadata": {},
   "source": [
    "Ok - lets build a simple component that takes a parameter and calls our script, returning the string as output"
   ]
  },
  {
   "cell_type": "code",
   "execution_count": 14,
   "id": "f1cbac52-c2b5-4613-9168-e8d4bbaed287",
   "metadata": {},
   "outputs": [],
   "source": [
    "from kfp.v2 import dsl\n",
    "BASE_IMAGE = f\"{REGION}-docker.pkg.dev/{PROJECT_ID}/{PRIVATE_REPO}/{CONTAINER_NAME}\"\n",
    "\n",
    "@dsl.component(base_image=BASE_IMAGE)\n",
    "def hello_robot(text: str) -> str:\n",
    "    import subprocess\n",
    "    \n",
    "    output = subprocess.run(['scripts/hello-robot.sh',text],capture_output=True)\n",
    "    return output.stdout.decode('utf-8')"
   ]
  },
  {
   "cell_type": "markdown",
   "id": "181ed1c4-4f9f-4be3-87fb-6628a3e8c1fe",
   "metadata": {},
   "source": [
    "Now lets define a pipeline to run our component"
   ]
  },
  {
   "cell_type": "code",
   "execution_count": 24,
   "id": "83acfe6d-741a-4384-8955-e4eff2c72da0",
   "metadata": {},
   "outputs": [],
   "source": [
    "BUCKET_URI='gs://gcp-ml-sandbox-scratch'\n",
    "PIPELINE_ROOT = \"{}/pipeline_root/base-component-example\".format(BUCKET_URI)\n",
    "\n",
    "@dsl.pipeline(\n",
    "    name=\"custom-base-component\",\n",
    "    description=\"Simple pipeline showing a custom base image\",\n",
    "    pipeline_root=PIPELINE_ROOT,\n",
    ")\n",
    "def simple_pipeline(name_to_echo: str):\n",
    "    hello_task = hello_robot(text=name_to_echo)\n"
   ]
  },
  {
   "cell_type": "markdown",
   "id": "720056cd-42d3-476e-9307-54de7dc87d64",
   "metadata": {},
   "source": [
    "Finally, lets compile and run  the pipeline on GCP, passing in our pipeline parameter which will in tun be passed to our custom component"
   ]
  },
  {
   "cell_type": "code",
   "execution_count": 26,
   "id": "334deecb-733d-4927-a271-fe3a9192ce19",
   "metadata": {},
   "outputs": [
    {
     "name": "stdout",
     "output_type": "stream",
     "text": [
      "Creating PipelineJob\n",
      "PipelineJob created. Resource name: projects/357746845324/locations/us-central1/pipelineJobs/custom-base-component-20230517172434\n",
      "To use this PipelineJob in another session:\n",
      "pipeline_job = aiplatform.PipelineJob.get('projects/357746845324/locations/us-central1/pipelineJobs/custom-base-component-20230517172434')\n",
      "View Pipeline Job:\n",
      "https://console.cloud.google.com/vertex-ai/locations/us-central1/pipelines/runs/custom-base-component-20230517172434?project=357746845324\n",
      "PipelineJob projects/357746845324/locations/us-central1/pipelineJobs/custom-base-component-20230517172434 current state:\n",
      "PipelineState.PIPELINE_STATE_RUNNING\n",
      "PipelineJob projects/357746845324/locations/us-central1/pipelineJobs/custom-base-component-20230517172434 current state:\n",
      "PipelineState.PIPELINE_STATE_RUNNING\n",
      "PipelineJob projects/357746845324/locations/us-central1/pipelineJobs/custom-base-component-20230517172434 current state:\n",
      "PipelineState.PIPELINE_STATE_RUNNING\n",
      "PipelineJob projects/357746845324/locations/us-central1/pipelineJobs/custom-base-component-20230517172434 current state:\n",
      "PipelineState.PIPELINE_STATE_RUNNING\n",
      "PipelineJob run completed. Resource name: projects/357746845324/locations/us-central1/pipelineJobs/custom-base-component-20230517172434\n"
     ]
    }
   ],
   "source": [
    "import google.cloud.aiplatform as aip\n",
    "from kfp import dsl\n",
    "from kfp.v2 import compiler\n",
    "from kfp.v2.dsl import component\n",
    "\n",
    "aip.init(project=PROJECT_ID, staging_bucket=BUCKET_URI)\n",
    "\n",
    "compiler.Compiler().compile(pipeline_func=simple_pipeline, package_path=\"simple_pipeline.json\")\n",
    "\n",
    "DISPLAY_NAME = \"simple_pipeline\"\n",
    "\n",
    "job = aip.PipelineJob(\n",
    "    display_name=DISPLAY_NAME,\n",
    "    template_path=\"simple_pipeline.json\",\n",
    "    pipeline_root=PIPELINE_ROOT,\n",
    "    parameter_values={\"name_to_echo\": \"Mo Haque\"},\n",
    "\n",
    ")\n",
    "\n",
    "job.run()\n"
   ]
  }
 ],
 "metadata": {
  "environment": {
   "kernel": "py-3.9_tf-2.11_aip-1.21",
   "name": "common-cpu.m93",
   "type": "gcloud",
   "uri": "gcr.io/deeplearning-platform-release/base-cpu:m93"
  },
  "kernelspec": {
   "display_name": "py-3.9_tf-2.11_aip-1.21",
   "language": "python",
   "name": "py-3.9_tf-2.11_aip-1.21"
  },
  "language_info": {
   "codemirror_mode": {
    "name": "ipython",
    "version": 3
   },
   "file_extension": ".py",
   "mimetype": "text/x-python",
   "name": "python",
   "nbconvert_exporter": "python",
   "pygments_lexer": "ipython3",
   "version": "3.9.13"
  }
 },
 "nbformat": 4,
 "nbformat_minor": 5
}
